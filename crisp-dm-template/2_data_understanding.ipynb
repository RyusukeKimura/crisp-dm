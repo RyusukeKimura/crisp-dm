{
 "cells": [
  {
   "cell_type": "code",
   "execution_count": null,
   "metadata": {},
   "outputs": [],
   "source": [
    "# mount drive\n",
    "from google.colab import drive\n",
    "drive.mount('/content/drive')"
   ]
  },
  {
   "cell_type": "code",
   "execution_count": null,
   "metadata": {},
   "outputs": [],
   "source": [
    "# move directory\n",
    "import os\n",
    "colab_dir = \"./drive/MyDrive/\"\n",
    "os.chdir(colab_dir)"
   ]
  },
  {
   "cell_type": "code",
   "execution_count": null,
   "metadata": {
    "id": "pzImNeOjy4jZ"
   },
   "outputs": [],
   "source": [
    "# import libraries\n",
    "import pandas as pd\n",
    "import numpy as np\n",
    "import seaborn as sns\n",
    "import matplotlib.pyplot as plt\n",
    "import matplotlib_inline\n",
    "%matplotlib inline"
   ]
  },
  {
   "cell_type": "code",
   "execution_count": null,
   "metadata": {},
   "outputs": [],
   "source": [
    "# pip install\n",
    "##  pandas profiling\n",
    "!pip install https://github.com/pandas-profiling/pandas-profiling/archive/master.zip    \n",
    "from pandas_profiling import ProfileReport"
   ]
  },
  {
   "cell_type": "code",
   "execution_count": null,
   "metadata": {},
   "outputs": [],
   "source": [
    "# set random seed\n",
    "import random\n",
    "random.seed(335)"
   ]
  },
  {
   "cell_type": "code",
   "execution_count": null,
   "metadata": {},
   "outputs": [],
   "source": [
    "# magic word\n",
    "pd.set_option('display.max_rows', 500)\n",
    "pd.set_option('display.max_columns', 500)"
   ]
  },
  {
   "cell_type": "code",
   "execution_count": null,
   "metadata": {},
   "outputs": [],
   "source": [
    "# for better viz\n",
    "import pprint\n",
    "import warnings\n",
    "warnings.filterwarnings('ignore')"
   ]
  },
  {
   "cell_type": "markdown",
   "metadata": {},
   "source": [
    "### reference\n",
    "-------------------\n",
    "\n",
    "- [pandas cheat sheet](https://github.com/pandas-dev/pandas/tree/master/doc/cheatsheet)\n",
    "- [numpy cheat sheet(data camp)](https://www.datacamp.com/community/blog/python-numpy-cheat-sheet)\n",
    "- [scikit-learn cheat sheet(data camp)](datacamp.com/community/blog/scikit-learn-cheat-sheet)"
   ]
  },
  {
   "cell_type": "markdown",
   "metadata": {
    "id": "_RbelOPK4TFB"
   },
   "source": [
    "# data understanding\n",
    "------------\n",
    "The data understanding phase starts with an initial data collection and proceeds withactivities in order to get familiar with the data, to identify data quality problems, to discover first insights into the data or to detect interesting subsets to form hypothesesfor hidden information."
   ]
  },
  {
   "cell_type": "markdown",
   "metadata": {
    "id": "Wfrdzmhe0Zfr"
   },
   "source": [
    "## collect initial data\n",
    "----------\n",
    "\n",
    "### task\n",
    "\n",
    "Acquire within the project the data (or access to the data) listed in the\n",
    "project resources. This initial collection includes data loading if necessary\n",
    "for data understanding. For example, if you apply a specific tool for data\n",
    "understanding, it makes perfect sense to load your data into this tool.\n",
    "This effort possibly leads to initial data preparation steps.\n",
    "\n",
    "Note: if you acquire multiple data sources, integration is an additional\n",
    "issue, either here or in the later data preparation phase.\n",
    "\n",
    "### output\n",
    "\n",
    "List the dataset (or datasets) acquired, together with their locations\n",
    "within the project, the methods used to acquire them and any problems\n",
    "encountered. Record problems encountered and any solutions achieved\n",
    "to aid with future replication of this project or with the execution of\n",
    "similar future projects."
   ]
  },
  {
   "cell_type": "code",
   "execution_count": null,
   "metadata": {},
   "outputs": [],
   "source": [
    "# read csv file\n",
    "df = pd.read_csv(path + file_name)"
   ]
  },
  {
   "cell_type": "code",
   "execution_count": null,
   "metadata": {},
   "outputs": [],
   "source": [
    "# read excel file\n",
    "df = pd.read_excel(path + file_name, sheet_name=sheet_name)"
   ]
  },
  {
   "cell_type": "markdown",
   "metadata": {
    "id": "6Sc9nvcRfYwT"
   },
   "source": [
    "## describe data\n",
    "----------\n",
    "\n",
    "### task\n",
    "\n",
    "Examine the “gross” or “surface” properties of the acquired data and\n",
    "report on the results.\n",
    "\n",
    "### output\n",
    "\n",
    "Describe the data which has been acquired, including: the format of\n",
    "the data, the quantity of data, for example number of records and fields\n",
    "in each table, the identities of the fields and any other surface features\n",
    "of the data which have been discovered. Does the data acquired satisfy\n",
    "the relevant requirements?"
   ]
  },
  {
   "cell_type": "code",
   "execution_count": null,
   "metadata": {
    "colab": {
     "base_uri": "https://localhost:8080/"
    },
    "executionInfo": {
     "elapsed": 3521,
     "status": "ok",
     "timestamp": 1619696768375,
     "user": {
      "displayName": "木村隆介",
      "photoUrl": "",
      "userId": "17085545041801616114"
     },
     "user_tz": -540
    },
    "id": "QPHjdzkE0UVz",
    "outputId": "9ca87f60-f785-4e83-e467-cb45092267ab"
   },
   "outputs": [],
   "source": [
    "# number of records and fields\n",
    "df.shape # (records, fields)"
   ]
  },
  {
   "cell_type": "code",
   "execution_count": null,
   "metadata": {
    "colab": {
     "base_uri": "https://localhost:8080/",
     "height": 204
    },
    "executionInfo": {
     "elapsed": 3509,
     "status": "ok",
     "timestamp": 1619696768376,
     "user": {
      "displayName": "木村隆介",
      "photoUrl": "",
      "userId": "17085545041801616114"
     },
     "user_tz": -540
    },
    "id": "oROpmwmop0rg",
    "outputId": "f417b4f4-c976-4fff-c6b2-2bd30c5c272c"
   },
   "outputs": [],
   "source": [
    "# head\n",
    "df.head(n=5)"
   ]
  },
  {
   "cell_type": "code",
   "execution_count": null,
   "metadata": {
    "colab": {
     "base_uri": "https://localhost:8080/",
     "height": 204
    },
    "executionInfo": {
     "elapsed": 3499,
     "status": "ok",
     "timestamp": 1619696768377,
     "user": {
      "displayName": "木村隆介",
      "photoUrl": "",
      "userId": "17085545041801616114"
     },
     "user_tz": -540
    },
    "id": "7dtwSa8YqAEq",
    "outputId": "90341c91-f376-4a93-80d7-70f2e232561b"
   },
   "outputs": [],
   "source": [
    "# tail\n",
    "df.tail(n=5)"
   ]
  },
  {
   "cell_type": "code",
   "execution_count": null,
   "metadata": {
    "colab": {
     "base_uri": "https://localhost:8080/"
    },
    "executionInfo": {
     "elapsed": 3490,
     "status": "ok",
     "timestamp": 1619696768378,
     "user": {
      "displayName": "木村隆介",
      "photoUrl": "",
      "userId": "17085545041801616114"
     },
     "user_tz": -540
    },
    "id": "SVxbdOL9qcI7",
    "outputId": "eb16d339-7dbc-4c4e-d2a3-a590174b2ada"
   },
   "outputs": [],
   "source": [
    "# data types\n",
    "df.dtypes"
   ]
  },
  {
   "cell_type": "markdown",
   "metadata": {
    "id": "LYGa0Os-foIw"
   },
   "source": [
    "## explore data\n",
    "----------\n",
    "\n",
    "### task\n",
    "\n",
    "This task tackles the data mining questions, which can be addressed\n",
    "using querying, visualization and reporting. These include: distribution\n",
    "of key attributes, for example the target attribute of a prediction task;\n",
    "relations between pairs or small numbers of attributes; results of\n",
    "simple aggregations; properties of significant sub-populations; simple\n",
    "statistical analyses. These analyses may address directly the data mining goals; they may also contribute to or refine the data description\n",
    "and quality reports and feed into the transformation and other data\n",
    "preparation needed for further analysis.\n",
    "\n",
    "### output\n",
    "\n",
    "Describe results of this task including first findings or initial hypothesis and their impact on the remainder of the project. If appropriate,\n",
    "include graphs and plots, which indicate data characteristics or lead\n",
    "to interesting data subsets for further examination."
   ]
  },
  {
   "cell_type": "code",
   "execution_count": null,
   "metadata": {
    "id": "eWbjazH10X7v"
   },
   "outputs": [],
   "source": [
    "# convert data type\n",
    "df.shipping_date = pd.to_datetime(df.shipping_date, format='%Y/%m/%d')\n",
    "df.price = df.price.astype('int64')\n",
    "df.quantity = df.quantity.astype('int64')"
   ]
  },
  {
   "cell_type": "code",
   "execution_count": null,
   "metadata": {
    "colab": {
     "base_uri": "https://localhost:8080/",
     "height": 297
    },
    "executionInfo": {
     "elapsed": 3918,
     "status": "ok",
     "timestamp": 1619696768827,
     "user": {
      "displayName": "木村隆介",
      "photoUrl": "",
      "userId": "17085545041801616114"
     },
     "user_tz": -540
    },
    "id": "DE-NXWkyuJYv",
    "outputId": "0bad6784-1f52-47ac-ac39-a106f501d240"
   },
   "outputs": [],
   "source": [
    "# describe\n",
    "df.describe()"
   ]
  },
  {
   "cell_type": "code",
   "execution_count": null,
   "metadata": {
    "colab": {
     "base_uri": "https://localhost:8080/",
     "height": 353
    },
    "executionInfo": {
     "elapsed": 4305,
     "status": "ok",
     "timestamp": 1619696769226,
     "user": {
      "displayName": "木村隆介",
      "photoUrl": "",
      "userId": "17085545041801616114"
     },
     "user_tz": -540
    },
    "id": "IaCsZ-KMwjGb",
    "outputId": "b6a2f5c1-cf46-46f8-ae59-5a5dde1bf62a"
   },
   "outputs": [],
   "source": [
    "# histogram\n",
    "sns.distplot(df.price)"
   ]
  },
  {
   "cell_type": "code",
   "execution_count": null,
   "metadata": {
    "colab": {
     "base_uri": "https://localhost:8080/",
     "height": 350
    },
    "executionInfo": {
     "elapsed": 5010,
     "status": "ok",
     "timestamp": 1619696769940,
     "user": {
      "displayName": "木村隆介",
      "photoUrl": "",
      "userId": "17085545041801616114"
     },
     "user_tz": -540
    },
    "id": "PMgw2iuJwwDr",
    "outputId": "35e182de-f924-42b4-8755-2f875c570d90"
   },
   "outputs": [],
   "source": [
    "# histogram\n",
    "sns.distplot(df.quantity)"
   ]
  },
  {
   "cell_type": "code",
   "execution_count": null,
   "metadata": {
    "colab": {
     "base_uri": "https://localhost:8080/",
     "height": 297
    },
    "executionInfo": {
     "elapsed": 5007,
     "status": "ok",
     "timestamp": 1619696769945,
     "user": {
      "displayName": "木村隆介",
      "photoUrl": "",
      "userId": "17085545041801616114"
     },
     "user_tz": -540
    },
    "id": "wMS3y_yd1CGU",
    "outputId": "b45f64d5-cd52-48b9-a9a6-35f0844d27ac"
   },
   "outputs": [],
   "source": [
    "# random data wrangling\n",
    "data = df.groupby('shipping_date', as_index=False).agg({'price': np.sum, 'quantity': np.sum})\n",
    "sns.lineplot(data=data, x=\"shipping_date\", y=\"price\")"
   ]
  },
  {
   "cell_type": "code",
   "execution_count": null,
   "metadata": {},
   "outputs": [],
   "source": [
    "# pandas profiling\n",
    "profile = ProfileReport(df, minimal=True)\n",
    "profile.to_file(path + \"data_understanding_report.html\")\n",
    "profile"
   ]
  },
  {
   "cell_type": "markdown",
   "metadata": {
    "id": "j2Qk3wwff3qz"
   },
   "source": [
    "## verify data quality\n",
    "----------\n",
    "\n",
    "### task\n",
    "\n",
    "Examine the quality of the data, addressing questions such as: is the\n",
    "data complete (does it cover all the cases required)? Is it correct or\n",
    "does it contain errors and if there are errors how common are they?\n",
    "Are there missing values in the data? If so how are they represented,\n",
    "where do they occur and how common are they?\n",
    "\n",
    "### output\n",
    "\n",
    "List the results of the data quality verification; if quality problems\n",
    "exist, list possible solutions. Solutions to data quality problems\n",
    "generally depend heavily on both data and business knowledge."
   ]
  },
  {
   "cell_type": "code",
   "execution_count": null,
   "metadata": {
    "colab": {
     "base_uri": "https://localhost:8080/",
     "height": 419
    },
    "executionInfo": {
     "elapsed": 4999,
     "status": "ok",
     "timestamp": 1619696769946,
     "user": {
      "displayName": "木村隆介",
      "photoUrl": "",
      "userId": "17085545041801616114"
     },
     "user_tz": -540
    },
    "id": "b5YEWsmB5gaA",
    "outputId": "30d81dc7-ff70-4f23-8124-1714901bff26"
   },
   "outputs": [],
   "source": [
    "# check duplicate row\n",
    "df[df.duplicated(keep=False)]"
   ]
  },
  {
   "cell_type": "code",
   "execution_count": null,
   "metadata": {
    "colab": {
     "base_uri": "https://localhost:8080/",
     "height": 419
    },
    "executionInfo": {
     "elapsed": 5006,
     "status": "ok",
     "timestamp": 1619696769963,
     "user": {
      "displayName": "木村隆介",
      "photoUrl": "",
      "userId": "17085545041801616114"
     },
     "user_tz": -540
    },
    "id": "i_wGEtBD6-r_",
    "outputId": "117aaeec-ccff-423a-8bce-d70634028830"
   },
   "outputs": [],
   "source": [
    "# check outlier\n",
    "from scipy import stats\n",
    "z_thr = 3.0\n",
    "df[(np.abs(stats.zscore(df.select_dtypes(include=int))) > z_thr).any(axis=1)]"
   ]
  },
  {
   "cell_type": "code",
   "execution_count": null,
   "metadata": {
    "colab": {
     "base_uri": "https://localhost:8080/"
    },
    "executionInfo": {
     "elapsed": 5000,
     "status": "ok",
     "timestamp": 1619696769965,
     "user": {
      "displayName": "木村隆介",
      "photoUrl": "",
      "userId": "17085545041801616114"
     },
     "user_tz": -540
    },
    "id": "ECGLrYhkgDCY",
    "outputId": "31069835-5b9e-489d-fc71-d053c72aa427"
   },
   "outputs": [],
   "source": [
    "# check missing data\n",
    "df.isnull().sum()"
   ]
  },
  {
   "cell_type": "code",
   "execution_count": null,
   "metadata": {
    "colab": {
     "base_uri": "https://localhost:8080/"
    },
    "executionInfo": {
     "elapsed": 5460,
     "status": "ok",
     "timestamp": 1619696770430,
     "user": {
      "displayName": "木村隆介",
      "photoUrl": "",
      "userId": "17085545041801616114"
     },
     "user_tz": -540
    },
    "id": "PkZq3uoiv_8B",
    "outputId": "fac23bfe-70a9-4468-ee54-3dfec56c8856"
   },
   "outputs": [],
   "source": [
    "# check number of unique value\n",
    "df.nunique()"
   ]
  },
  {
   "cell_type": "code",
   "execution_count": null,
   "metadata": {
    "colab": {
     "base_uri": "https://localhost:8080/"
    },
    "executionInfo": {
     "elapsed": 5456,
     "status": "ok",
     "timestamp": 1619696770431,
     "user": {
      "displayName": "木村隆介",
      "photoUrl": "",
      "userId": "17085545041801616114"
     },
     "user_tz": -540
    },
    "id": "c9jr4a64uq6q",
    "outputId": "1b011427-511e-4597-a03b-ceaaed8df7b9"
   },
   "outputs": [],
   "source": [
    "# check unique value\n",
    "for feature in df.columns:\n",
    "  print('------' + feature + '------')\n",
    "  print(np.sort(df[feature].unique()))\n",
    "  print()"
   ]
  },
  {
   "cell_type": "markdown",
   "metadata": {
    "id": "-u6lu6ep4EgC"
   },
   "source": [
    "## note/questions\n",
    "-------------\n",
    "\n",
    "#### collect initial data\n",
    "\n",
    "\n",
    "#### describe data\n",
    "\n",
    "\n",
    "\n",
    "#### explore data\n",
    "\n",
    "\n",
    "\n",
    "#### verify data quality\n",
    "\n",
    "\n"
   ]
  },
  {
   "cell_type": "code",
   "execution_count": null,
   "metadata": {
    "id": "77gTgxgz4PYQ"
   },
   "outputs": [],
   "source": []
  }
 ],
 "metadata": {
  "colab": {
   "authorship_tag": "ABX9TyOdbj/NpXAo0mTrRZTN4P0/",
   "collapsed_sections": [],
   "name": "data-understanding.ipynb",
   "provenance": []
  },
  "kernelspec": {
   "display_name": "Python 3",
   "language": "python",
   "name": "python3"
  },
  "language_info": {
   "codemirror_mode": {
    "name": "ipython",
    "version": 3
   },
   "file_extension": ".py",
   "mimetype": "text/x-python",
   "name": "python",
   "nbconvert_exporter": "python",
   "pygments_lexer": "ipython3",
   "version": "3.8.5"
  }
 },
 "nbformat": 4,
 "nbformat_minor": 1
}
