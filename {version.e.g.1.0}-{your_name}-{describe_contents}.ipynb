{
 "cells": [
  {
   "cell_type": "markdown",
   "metadata": {},
   "source": [
    "# What is CRISP-DM??\n",
    "---------------------------------------\n",
    "Cross-industry standard process for data mining, known as CRISP-DM, is an open standard process model that describes common approaches used by data mining experts. It the most widely-used analytics model.  \n",
    "- https://en.wikipedia.org/wiki/Cross-industry_standard_process_for_data_mining\n",
    "- https://paginas.fe.up.pt/~ec/files_0405/slides/02%20CRISP.pdf\n",
    "\n",
    "# Phase and Generic Task of CRISP-DM\n",
    "---------------------------------------\n",
    "CRISP-DM breaks down the life cycle of a data mining project into six phases.  \n",
    "\n",
    "|- 1. Business Understanding  \n",
    "|---- 1.1. Determine Business Objectives  \n",
    "|---- 1.2. Assess Situation  \n",
    "|---- 1.3. Determine Data Mining Goals  \n",
    "|---- 1.4. Produce Project Plan  \n",
    "|- 2. Data Understanding  \n",
    "|---- 2.1. Collect Initial Data  \n",
    "|---- 2.2. Describe Data  \n",
    "|---- 2.3. Explore Data  \n",
    "|---- 2.4. Verify Data Quality  \n",
    "|- 3. Data Preparation  \n",
    "|---- 3.1. Select Data  \n",
    "|---- 3.2. Clean Data  \n",
    "|---- 3.3. Construct Data  \n",
    "|---- 3.4. Integrate Data  \n",
    "|---- 3.5. Format Data  \n",
    "|- 4. Modeling  \n",
    "|---- 4.1. Select Modeling Technique  \n",
    "|---- 4.2. Generate Test Design  \n",
    "|---- 4.3. Build Model  \n",
    "|---- 4.4. Assess Model  \n",
    "|- 5. Evaluation  \n",
    "|---- 5.1. Evaluate Results  \n",
    "|---- 5.2. Review Process  \n",
    "|---- 5.3. Determine Next Step  \n",
    "|- 6. Deployment  \n",
    "|---- 6.1. Plan Deployment  \n",
    "|---- 6.2. Plan Monitoring & Maintenance    \n",
    "|---- 6.3. Produce Final Report  \n",
    "|---- 6.4. Review Project  "
   ]
  },
  {
   "cell_type": "markdown",
   "metadata": {},
   "source": [
    "# 1. Business Understanding\n",
    "---------------------------------------"
   ]
  },
  {
   "cell_type": "markdown",
   "metadata": {},
   "source": [
    "## 1.1. Determine Business Objectives\n",
    "Please write down\n",
    "- background\n",
    "- business objectives\n",
    "- success criteria\n",
    "of this project"
   ]
  },
  {
   "cell_type": "markdown",
   "metadata": {},
   "source": [
    "## 1.2. Assess Situation"
   ]
  },
  {
   "cell_type": "markdown",
   "metadata": {},
   "source": [
    "## 1.3. Determine Data Mining Goals"
   ]
  },
  {
   "cell_type": "markdown",
   "metadata": {},
   "source": [
    "## 1.4. Produce Project Plan"
   ]
  },
  {
   "cell_type": "markdown",
   "metadata": {},
   "source": [
    "# 2. Data Understanding\n",
    "---------------------------------------"
   ]
  },
  {
   "cell_type": "markdown",
   "metadata": {
    "collapsed": true
   },
   "source": [
    "## 2.1. Collect Initial Data\n",
    "In this task, we collect initial data. \n",
    "Please write down\n",
    "- how to access database and tables\n",
    "- queries you use."
   ]
  },
  {
   "cell_type": "markdown",
   "metadata": {},
   "source": [
    "## 2.2. Describe Data\n",
    "In this task, we check data size and column type, basic statistics of each columns"
   ]
  },
  {
   "cell_type": "markdown",
   "metadata": {},
   "source": [
    "## 2.3. Explore Data\n",
    "In this task, we check probability distribution of each columns, in order to find out distribution shape of each variables."
   ]
  },
  {
   "cell_type": "markdown",
   "metadata": {},
   "source": [
    "## 2.4. Verify Data Quality\n",
    "In this task, we check missing values and outliers, unique values of each columns."
   ]
  },
  {
   "cell_type": "markdown",
   "metadata": {},
   "source": [
    "# 3. Data Preparation\n",
    "---------------------------------------"
   ]
  },
  {
   "cell_type": "markdown",
   "metadata": {},
   "source": [
    "## 3.1. Select Data\n",
    "Please select which data source are used and write why you chose that data source."
   ]
  },
  {
   "cell_type": "markdown",
   "metadata": {},
   "source": [
    "## 3.2. Clean Data\n",
    "Please write down, \n",
    "- why specific data source or column data is dirty\n",
    "- how you clean it \n",
    "- why you chose cleaning method"
   ]
  },
  {
   "cell_type": "markdown",
   "metadata": {},
   "source": [
    "## 3.3. Construct Data\n",
    "Please write down how you derive new attributes and create new records."
   ]
  },
  {
   "cell_type": "markdown",
   "metadata": {},
   "source": [
    "## 3.4. Integrate Data\n",
    "Please write down how you merge diffrent tables."
   ]
  },
  {
   "cell_type": "markdown",
   "metadata": {},
   "source": [
    "## 3.5. Format Data\n",
    "Please write down how you format data for modeling and evaluation."
   ]
  },
  {
   "cell_type": "markdown",
   "metadata": {},
   "source": [
    "# 4. Modeling\n",
    "---------------------------------------"
   ]
  },
  {
   "cell_type": "markdown",
   "metadata": {},
   "source": [
    "## 4.1. Select Modeling Technique"
   ]
  },
  {
   "cell_type": "markdown",
   "metadata": {},
   "source": [
    "## 4.2. Generate Test Design"
   ]
  },
  {
   "cell_type": "markdown",
   "metadata": {},
   "source": [
    "## 4.3. Build Model"
   ]
  },
  {
   "cell_type": "markdown",
   "metadata": {},
   "source": [
    "## 4.4. Asess Model\n",
    "Here, we need to interpret built model in business terms. Let's get comments by domain experts for checking plausibility of model."
   ]
  },
  {
   "cell_type": "markdown",
   "metadata": {},
   "source": [
    "## 4.5. Improve Model"
   ]
  },
  {
   "cell_type": "markdown",
   "metadata": {},
   "source": [
    "# 5. Evaluation\n",
    "---------------------------------------"
   ]
  },
  {
   "cell_type": "markdown",
   "metadata": {},
   "source": [
    "## 5.1. Evaluate Results"
   ]
  },
  {
   "cell_type": "markdown",
   "metadata": {},
   "source": [
    "## 5.2. Review of Process\n"
   ]
  },
  {
   "cell_type": "markdown",
   "metadata": {},
   "source": [
    "## 5.3. Determine Next Steps\n"
   ]
  },
  {
   "cell_type": "markdown",
   "metadata": {},
   "source": [
    "# 6. Deployment\n",
    "---------------------------------------"
   ]
  },
  {
   "cell_type": "markdown",
   "metadata": {},
   "source": [
    "## 6.1. Plan Deployment"
   ]
  },
  {
   "cell_type": "markdown",
   "metadata": {},
   "source": [
    "## 6.2. Plan Monitoring & Maintenance"
   ]
  },
  {
   "cell_type": "markdown",
   "metadata": {},
   "source": [
    "## 6.3. Produce Final Report\n"
   ]
  },
  {
   "cell_type": "markdown",
   "metadata": {},
   "source": [
    "## 6.4. Review Project\n"
   ]
  }
 ],
 "metadata": {
  "kernelspec": {
   "display_name": "Python 3",
   "language": "python",
   "name": "python3"
  },
  "language_info": {
   "codemirror_mode": {
    "name": "ipython",
    "version": 3
   },
   "file_extension": ".py",
   "mimetype": "text/x-python",
   "name": "python",
   "nbconvert_exporter": "python",
   "pygments_lexer": "ipython3",
   "version": "3.6.0"
  }
 },
 "nbformat": 4,
 "nbformat_minor": 2
}
