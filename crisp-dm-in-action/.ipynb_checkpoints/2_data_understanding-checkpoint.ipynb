{
 "cells": [
  {
   "cell_type": "code",
   "execution_count": 1,
   "metadata": {
    "id": "pzImNeOjy4jZ"
   },
   "outputs": [],
   "source": [
    "# import libraries\n",
    "import pandas as pd\n",
    "import numpy as np"
   ]
  },
  {
   "cell_type": "markdown",
   "metadata": {
    "id": "_RbelOPK4TFB"
   },
   "source": [
    "# data understanding\n",
    "------------\n",
    "The data understanding phase starts with an initial data collection and proceeds withactivities in order to get familiar with the data, to identify data quality problems, to discover first insights into the data or to detect interesting subsets to form hypothesesfor hidden information."
   ]
  },
  {
   "cell_type": "markdown",
   "metadata": {
    "id": "Wfrdzmhe0Zfr"
   },
   "source": [
    "## collect initial data\n",
    "----------\n",
    "\n",
    "### task\n",
    "\n",
    "Acquire within the project the data (or access to the data) listed in the\n",
    "project resources. This initial collection includes data loading if necessary\n",
    "for data understanding. For example, if you apply a specific tool for data\n",
    "understanding, it makes perfect sense to load your data into this tool.\n",
    "This effort possibly leads to initial data preparation steps.\n",
    "\n",
    "Note: if you acquire multiple data sources, integration is an additional\n",
    "issue, either here or in the later data preparation phase.\n",
    "\n",
    "### output\n",
    "\n",
    "List the dataset (or datasets) acquired, together with their locations\n",
    "within the project, the methods used to acquire them and any problems\n",
    "encountered. Record problems encountered and any solutions achieved\n",
    "to aid with future replication of this project or with the execution of\n",
    "similar future projects."
   ]
  },
  {
   "cell_type": "code",
   "execution_count": null,
   "metadata": {},
   "outputs": [],
   "source": [
    "# data set location\n",
    "# https://archive.ics.uci.edu/ml/datasets/online+retail"
   ]
  },
  {
   "cell_type": "markdown",
   "metadata": {},
   "source": [
    "### attributes\n",
    "\n",
    "- 参考: https://www.nysol.jp/nysol_python/tutorial/index.html\n",
    "\n",
    "| 項目名 | 日本語 | 型 | 内容 |\n",
    "|:---|:---|:---|:---|\n",
    "| InvoiceNo | 請求番号 | 文字列 | 基本は6桁の整数で、\"c\"から始まるコードはキャンセルを表す。 |\n",
    "| StockCode | 商品コード | 文字列 | 基本は5桁の整数だが、末尾にアルファベットが付くものもある。 |\n",
    "| Description | 商品名 | 文字列 | 商品の名称(商品コードと1:1に対応していないものもある) |\n",
    "| Quantity | 数量 | 整数 | 購入数量 |\n",
    "| InvoiceDate | 請求日時 | 実数 | トランザクションが生成された日時 |\n",
    "| UnitPrice | 単価 | 実数 | 一商品あたりの英貨 |\n",
    "| CustomerID | 顧客コード | 文字列 | 5桁の整数で顧客の識別コード |\n",
    "| Country | 国名 | 文字列 | 顧客が居住する国 |"
   ]
  },
  {
   "cell_type": "code",
   "execution_count": 5,
   "metadata": {},
   "outputs": [],
   "source": [
    "# convert excel file to csv file\n",
    "# df = pd.read_excel('./data/Online Retail.xlsx', 'Online Retail', index_col=None)\n",
    "# df.to_csv('./data/online_retail.csv', encoding='utf-8', index=None)"
   ]
  },
  {
   "cell_type": "code",
   "execution_count": 6,
   "metadata": {},
   "outputs": [],
   "source": [
    "# read csv file\n",
    "df = pd.read_csv('./data/online_retail.csv')"
   ]
  },
  {
   "cell_type": "markdown",
   "metadata": {
    "id": "6Sc9nvcRfYwT"
   },
   "source": [
    "## describe data\n",
    "----------\n",
    "\n",
    "### task\n",
    "\n",
    "Examine the “gross” or “surface” properties of the acquired data and\n",
    "report on the results.\n",
    "\n",
    "### output\n",
    "\n",
    "Describe the data which has been acquired, including: the format of\n",
    "the data, the quantity of data, for example number of records and fields\n",
    "in each table, the identities of the fields and any other surface features\n",
    "of the data which have been discovered. Does the data acquired satisfy\n",
    "the relevant requirements?"
   ]
  },
  {
   "cell_type": "code",
   "execution_count": 7,
   "metadata": {
    "colab": {
     "base_uri": "https://localhost:8080/"
    },
    "executionInfo": {
     "elapsed": 3521,
     "status": "ok",
     "timestamp": 1619696768375,
     "user": {
      "displayName": "木村隆介",
      "photoUrl": "",
      "userId": "17085545041801616114"
     },
     "user_tz": -540
    },
    "id": "QPHjdzkE0UVz",
    "outputId": "9ca87f60-f785-4e83-e467-cb45092267ab"
   },
   "outputs": [
    {
     "data": {
      "text/plain": [
       "(541909, 8)"
      ]
     },
     "execution_count": 7,
     "metadata": {},
     "output_type": "execute_result"
    }
   ],
   "source": [
    "# number of records and fields\n",
    "df.shape # (records, fields)"
   ]
  },
  {
   "cell_type": "code",
   "execution_count": 8,
   "metadata": {
    "colab": {
     "base_uri": "https://localhost:8080/",
     "height": 204
    },
    "executionInfo": {
     "elapsed": 3509,
     "status": "ok",
     "timestamp": 1619696768376,
     "user": {
      "displayName": "木村隆介",
      "photoUrl": "",
      "userId": "17085545041801616114"
     },
     "user_tz": -540
    },
    "id": "oROpmwmop0rg",
    "outputId": "f417b4f4-c976-4fff-c6b2-2bd30c5c272c"
   },
   "outputs": [
    {
     "data": {
      "text/html": [
       "<div>\n",
       "<style scoped>\n",
       "    .dataframe tbody tr th:only-of-type {\n",
       "        vertical-align: middle;\n",
       "    }\n",
       "\n",
       "    .dataframe tbody tr th {\n",
       "        vertical-align: top;\n",
       "    }\n",
       "\n",
       "    .dataframe thead th {\n",
       "        text-align: right;\n",
       "    }\n",
       "</style>\n",
       "<table border=\"1\" class=\"dataframe\">\n",
       "  <thead>\n",
       "    <tr style=\"text-align: right;\">\n",
       "      <th></th>\n",
       "      <th>InvoiceNo</th>\n",
       "      <th>StockCode</th>\n",
       "      <th>Description</th>\n",
       "      <th>Quantity</th>\n",
       "      <th>InvoiceDate</th>\n",
       "      <th>UnitPrice</th>\n",
       "      <th>CustomerID</th>\n",
       "      <th>Country</th>\n",
       "    </tr>\n",
       "  </thead>\n",
       "  <tbody>\n",
       "    <tr>\n",
       "      <th>0</th>\n",
       "      <td>536365</td>\n",
       "      <td>85123A</td>\n",
       "      <td>WHITE HANGING HEART T-LIGHT HOLDER</td>\n",
       "      <td>6</td>\n",
       "      <td>2010-12-01 08:26:00</td>\n",
       "      <td>2.55</td>\n",
       "      <td>17850.0</td>\n",
       "      <td>United Kingdom</td>\n",
       "    </tr>\n",
       "    <tr>\n",
       "      <th>1</th>\n",
       "      <td>536365</td>\n",
       "      <td>71053</td>\n",
       "      <td>WHITE METAL LANTERN</td>\n",
       "      <td>6</td>\n",
       "      <td>2010-12-01 08:26:00</td>\n",
       "      <td>3.39</td>\n",
       "      <td>17850.0</td>\n",
       "      <td>United Kingdom</td>\n",
       "    </tr>\n",
       "    <tr>\n",
       "      <th>2</th>\n",
       "      <td>536365</td>\n",
       "      <td>84406B</td>\n",
       "      <td>CREAM CUPID HEARTS COAT HANGER</td>\n",
       "      <td>8</td>\n",
       "      <td>2010-12-01 08:26:00</td>\n",
       "      <td>2.75</td>\n",
       "      <td>17850.0</td>\n",
       "      <td>United Kingdom</td>\n",
       "    </tr>\n",
       "    <tr>\n",
       "      <th>3</th>\n",
       "      <td>536365</td>\n",
       "      <td>84029G</td>\n",
       "      <td>KNITTED UNION FLAG HOT WATER BOTTLE</td>\n",
       "      <td>6</td>\n",
       "      <td>2010-12-01 08:26:00</td>\n",
       "      <td>3.39</td>\n",
       "      <td>17850.0</td>\n",
       "      <td>United Kingdom</td>\n",
       "    </tr>\n",
       "    <tr>\n",
       "      <th>4</th>\n",
       "      <td>536365</td>\n",
       "      <td>84029E</td>\n",
       "      <td>RED WOOLLY HOTTIE WHITE HEART.</td>\n",
       "      <td>6</td>\n",
       "      <td>2010-12-01 08:26:00</td>\n",
       "      <td>3.39</td>\n",
       "      <td>17850.0</td>\n",
       "      <td>United Kingdom</td>\n",
       "    </tr>\n",
       "  </tbody>\n",
       "</table>\n",
       "</div>"
      ],
      "text/plain": [
       "  InvoiceNo StockCode                          Description  Quantity  \\\n",
       "0    536365    85123A   WHITE HANGING HEART T-LIGHT HOLDER         6   \n",
       "1    536365     71053                  WHITE METAL LANTERN         6   \n",
       "2    536365    84406B       CREAM CUPID HEARTS COAT HANGER         8   \n",
       "3    536365    84029G  KNITTED UNION FLAG HOT WATER BOTTLE         6   \n",
       "4    536365    84029E       RED WOOLLY HOTTIE WHITE HEART.         6   \n",
       "\n",
       "           InvoiceDate  UnitPrice  CustomerID         Country  \n",
       "0  2010-12-01 08:26:00       2.55     17850.0  United Kingdom  \n",
       "1  2010-12-01 08:26:00       3.39     17850.0  United Kingdom  \n",
       "2  2010-12-01 08:26:00       2.75     17850.0  United Kingdom  \n",
       "3  2010-12-01 08:26:00       3.39     17850.0  United Kingdom  \n",
       "4  2010-12-01 08:26:00       3.39     17850.0  United Kingdom  "
      ]
     },
     "execution_count": 8,
     "metadata": {},
     "output_type": "execute_result"
    }
   ],
   "source": [
    "# head\n",
    "df.head(n=5)"
   ]
  },
  {
   "cell_type": "code",
   "execution_count": 9,
   "metadata": {
    "colab": {
     "base_uri": "https://localhost:8080/",
     "height": 204
    },
    "executionInfo": {
     "elapsed": 3499,
     "status": "ok",
     "timestamp": 1619696768377,
     "user": {
      "displayName": "木村隆介",
      "photoUrl": "",
      "userId": "17085545041801616114"
     },
     "user_tz": -540
    },
    "id": "7dtwSa8YqAEq",
    "outputId": "90341c91-f376-4a93-80d7-70f2e232561b"
   },
   "outputs": [
    {
     "data": {
      "text/html": [
       "<div>\n",
       "<style scoped>\n",
       "    .dataframe tbody tr th:only-of-type {\n",
       "        vertical-align: middle;\n",
       "    }\n",
       "\n",
       "    .dataframe tbody tr th {\n",
       "        vertical-align: top;\n",
       "    }\n",
       "\n",
       "    .dataframe thead th {\n",
       "        text-align: right;\n",
       "    }\n",
       "</style>\n",
       "<table border=\"1\" class=\"dataframe\">\n",
       "  <thead>\n",
       "    <tr style=\"text-align: right;\">\n",
       "      <th></th>\n",
       "      <th>InvoiceNo</th>\n",
       "      <th>StockCode</th>\n",
       "      <th>Description</th>\n",
       "      <th>Quantity</th>\n",
       "      <th>InvoiceDate</th>\n",
       "      <th>UnitPrice</th>\n",
       "      <th>CustomerID</th>\n",
       "      <th>Country</th>\n",
       "    </tr>\n",
       "  </thead>\n",
       "  <tbody>\n",
       "    <tr>\n",
       "      <th>541904</th>\n",
       "      <td>581587</td>\n",
       "      <td>22613</td>\n",
       "      <td>PACK OF 20 SPACEBOY NAPKINS</td>\n",
       "      <td>12</td>\n",
       "      <td>2011-12-09 12:50:00</td>\n",
       "      <td>0.85</td>\n",
       "      <td>12680.0</td>\n",
       "      <td>France</td>\n",
       "    </tr>\n",
       "    <tr>\n",
       "      <th>541905</th>\n",
       "      <td>581587</td>\n",
       "      <td>22899</td>\n",
       "      <td>CHILDREN'S APRON DOLLY GIRL</td>\n",
       "      <td>6</td>\n",
       "      <td>2011-12-09 12:50:00</td>\n",
       "      <td>2.10</td>\n",
       "      <td>12680.0</td>\n",
       "      <td>France</td>\n",
       "    </tr>\n",
       "    <tr>\n",
       "      <th>541906</th>\n",
       "      <td>581587</td>\n",
       "      <td>23254</td>\n",
       "      <td>CHILDRENS CUTLERY DOLLY GIRL</td>\n",
       "      <td>4</td>\n",
       "      <td>2011-12-09 12:50:00</td>\n",
       "      <td>4.15</td>\n",
       "      <td>12680.0</td>\n",
       "      <td>France</td>\n",
       "    </tr>\n",
       "    <tr>\n",
       "      <th>541907</th>\n",
       "      <td>581587</td>\n",
       "      <td>23255</td>\n",
       "      <td>CHILDRENS CUTLERY CIRCUS PARADE</td>\n",
       "      <td>4</td>\n",
       "      <td>2011-12-09 12:50:00</td>\n",
       "      <td>4.15</td>\n",
       "      <td>12680.0</td>\n",
       "      <td>France</td>\n",
       "    </tr>\n",
       "    <tr>\n",
       "      <th>541908</th>\n",
       "      <td>581587</td>\n",
       "      <td>22138</td>\n",
       "      <td>BAKING SET 9 PIECE RETROSPOT</td>\n",
       "      <td>3</td>\n",
       "      <td>2011-12-09 12:50:00</td>\n",
       "      <td>4.95</td>\n",
       "      <td>12680.0</td>\n",
       "      <td>France</td>\n",
       "    </tr>\n",
       "  </tbody>\n",
       "</table>\n",
       "</div>"
      ],
      "text/plain": [
       "       InvoiceNo StockCode                      Description  Quantity  \\\n",
       "541904    581587     22613      PACK OF 20 SPACEBOY NAPKINS        12   \n",
       "541905    581587     22899     CHILDREN'S APRON DOLLY GIRL          6   \n",
       "541906    581587     23254    CHILDRENS CUTLERY DOLLY GIRL          4   \n",
       "541907    581587     23255  CHILDRENS CUTLERY CIRCUS PARADE         4   \n",
       "541908    581587     22138    BAKING SET 9 PIECE RETROSPOT          3   \n",
       "\n",
       "                InvoiceDate  UnitPrice  CustomerID Country  \n",
       "541904  2011-12-09 12:50:00       0.85     12680.0  France  \n",
       "541905  2011-12-09 12:50:00       2.10     12680.0  France  \n",
       "541906  2011-12-09 12:50:00       4.15     12680.0  France  \n",
       "541907  2011-12-09 12:50:00       4.15     12680.0  France  \n",
       "541908  2011-12-09 12:50:00       4.95     12680.0  France  "
      ]
     },
     "execution_count": 9,
     "metadata": {},
     "output_type": "execute_result"
    }
   ],
   "source": [
    "# tail\n",
    "df.tail(n=5)"
   ]
  },
  {
   "cell_type": "code",
   "execution_count": 10,
   "metadata": {
    "colab": {
     "base_uri": "https://localhost:8080/"
    },
    "executionInfo": {
     "elapsed": 3490,
     "status": "ok",
     "timestamp": 1619696768378,
     "user": {
      "displayName": "木村隆介",
      "photoUrl": "",
      "userId": "17085545041801616114"
     },
     "user_tz": -540
    },
    "id": "SVxbdOL9qcI7",
    "outputId": "eb16d339-7dbc-4c4e-d2a3-a590174b2ada"
   },
   "outputs": [
    {
     "data": {
      "text/plain": [
       "InvoiceNo       object\n",
       "StockCode       object\n",
       "Description     object\n",
       "Quantity         int64\n",
       "InvoiceDate     object\n",
       "UnitPrice      float64\n",
       "CustomerID     float64\n",
       "Country         object\n",
       "dtype: object"
      ]
     },
     "execution_count": 10,
     "metadata": {},
     "output_type": "execute_result"
    }
   ],
   "source": [
    "# data types\n",
    "df.dtypes"
   ]
  },
  {
   "cell_type": "markdown",
   "metadata": {
    "id": "LYGa0Os-foIw"
   },
   "source": [
    "## explore data\n",
    "----------\n",
    "\n",
    "### task\n",
    "\n",
    "This task tackles the data mining questions, which can be addressed\n",
    "using querying, visualization and reporting. These include: distribution\n",
    "of key attributes, for example the target attribute of a prediction task;\n",
    "relations between pairs or small numbers of attributes; results of\n",
    "simple aggregations; properties of significant sub-populations; simple\n",
    "statistical analyses. These analyses may address directly the data mining goals; they may also contribute to or refine the data description\n",
    "and quality reports and feed into the transformation and other data\n",
    "preparation needed for further analysis.\n",
    "\n",
    "### output\n",
    "\n",
    "Describe results of this task including first findings or initial hypothesis and their impact on the remainder of the project. If appropriate,\n",
    "include graphs and plots, which indicate data characteristics or lead\n",
    "to interesting data subsets for further examination."
   ]
  },
  {
   "cell_type": "code",
   "execution_count": 11,
   "metadata": {
    "id": "Rf7kLbkKtRiF"
   },
   "outputs": [],
   "source": [
    "# import libraries\n",
    "import matplotlib.pyplot as plt\n",
    "import seaborn as sns\n",
    "%matplotlib inline"
   ]
  },
  {
   "cell_type": "code",
   "execution_count": 18,
   "metadata": {
    "id": "eWbjazH10X7v"
   },
   "outputs": [],
   "source": [
    "# convert data type\n",
    "df.InvoiceDate = pd.to_datetime(df.InvoiceDate, format='%Y/%m/%d %H:%M:%S')\n",
    "df.CustomerID = df.CustomerID.astype('object')"
   ]
  },
  {
   "cell_type": "code",
   "execution_count": 17,
   "metadata": {
    "colab": {
     "base_uri": "https://localhost:8080/",
     "height": 297
    },
    "executionInfo": {
     "elapsed": 3918,
     "status": "ok",
     "timestamp": 1619696768827,
     "user": {
      "displayName": "木村隆介",
      "photoUrl": "",
      "userId": "17085545041801616114"
     },
     "user_tz": -540
    },
    "id": "DE-NXWkyuJYv",
    "outputId": "0bad6784-1f52-47ac-ac39-a106f501d240"
   },
   "outputs": [
    {
     "data": {
      "text/html": [
       "<div>\n",
       "<style scoped>\n",
       "    .dataframe tbody tr th:only-of-type {\n",
       "        vertical-align: middle;\n",
       "    }\n",
       "\n",
       "    .dataframe tbody tr th {\n",
       "        vertical-align: top;\n",
       "    }\n",
       "\n",
       "    .dataframe thead th {\n",
       "        text-align: right;\n",
       "    }\n",
       "</style>\n",
       "<table border=\"1\" class=\"dataframe\">\n",
       "  <thead>\n",
       "    <tr style=\"text-align: right;\">\n",
       "      <th></th>\n",
       "      <th>Quantity</th>\n",
       "      <th>UnitPrice</th>\n",
       "    </tr>\n",
       "  </thead>\n",
       "  <tbody>\n",
       "    <tr>\n",
       "      <th>count</th>\n",
       "      <td>541909.000000</td>\n",
       "      <td>541909.000000</td>\n",
       "    </tr>\n",
       "    <tr>\n",
       "      <th>mean</th>\n",
       "      <td>9.552250</td>\n",
       "      <td>4.611114</td>\n",
       "    </tr>\n",
       "    <tr>\n",
       "      <th>std</th>\n",
       "      <td>218.081158</td>\n",
       "      <td>96.759853</td>\n",
       "    </tr>\n",
       "    <tr>\n",
       "      <th>min</th>\n",
       "      <td>-80995.000000</td>\n",
       "      <td>-11062.060000</td>\n",
       "    </tr>\n",
       "    <tr>\n",
       "      <th>25%</th>\n",
       "      <td>1.000000</td>\n",
       "      <td>1.250000</td>\n",
       "    </tr>\n",
       "    <tr>\n",
       "      <th>50%</th>\n",
       "      <td>3.000000</td>\n",
       "      <td>2.080000</td>\n",
       "    </tr>\n",
       "    <tr>\n",
       "      <th>75%</th>\n",
       "      <td>10.000000</td>\n",
       "      <td>4.130000</td>\n",
       "    </tr>\n",
       "    <tr>\n",
       "      <th>max</th>\n",
       "      <td>80995.000000</td>\n",
       "      <td>38970.000000</td>\n",
       "    </tr>\n",
       "  </tbody>\n",
       "</table>\n",
       "</div>"
      ],
      "text/plain": [
       "            Quantity      UnitPrice\n",
       "count  541909.000000  541909.000000\n",
       "mean        9.552250       4.611114\n",
       "std       218.081158      96.759853\n",
       "min    -80995.000000  -11062.060000\n",
       "25%         1.000000       1.250000\n",
       "50%         3.000000       2.080000\n",
       "75%        10.000000       4.130000\n",
       "max     80995.000000   38970.000000"
      ]
     },
     "execution_count": 17,
     "metadata": {},
     "output_type": "execute_result"
    }
   ],
   "source": [
    "# describe\n",
    "df.describe()"
   ]
  },
  {
   "cell_type": "code",
   "execution_count": 23,
   "metadata": {
    "colab": {
     "base_uri": "https://localhost:8080/",
     "height": 353
    },
    "executionInfo": {
     "elapsed": 4305,
     "status": "ok",
     "timestamp": 1619696769226,
     "user": {
      "displayName": "木村隆介",
      "photoUrl": "",
      "userId": "17085545041801616114"
     },
     "user_tz": -540
    },
    "id": "IaCsZ-KMwjGb",
    "outputId": "b6a2f5c1-cf46-46f8-ae59-5a5dde1bf62a"
   },
   "outputs": [
    {
     "name": "stderr",
     "output_type": "stream",
     "text": [
      "/opt/anaconda3/lib/python3.8/site-packages/seaborn/distributions.py:2551: FutureWarning: `distplot` is a deprecated function and will be removed in a future version. Please adapt your code to use either `displot` (a figure-level function with similar flexibility) or `histplot` (an axes-level function for histograms).\n",
      "  warnings.warn(msg, FutureWarning)\n"
     ]
    },
    {
     "data": {
      "text/plain": [
       "<AxesSubplot:xlabel='Quantity', ylabel='Density'>"
      ]
     },
     "execution_count": 23,
     "metadata": {},
     "output_type": "execute_result"
    },
    {
     "data": {
      "image/png": "[encoded data removed]",
      "text/plain": [
       "<Figure size 432x288 with 1 Axes>"
      ]
     },
     "metadata": {
      "needs_background": "light"
     },
     "output_type": "display_data"
    }
   ],
   "source": [
    "# histogram\n",
    "sns.distplot(df.Quantity)"
   ]
  },
  {
   "cell_type": "code",
   "execution_count": 24,
   "metadata": {
    "colab": {
     "base_uri": "https://localhost:8080/",
     "height": 350
    },
    "executionInfo": {
     "elapsed": 5010,
     "status": "ok",
     "timestamp": 1619696769940,
     "user": {
      "displayName": "木村隆介",
      "photoUrl": "",
      "userId": "17085545041801616114"
     },
     "user_tz": -540
    },
    "id": "PMgw2iuJwwDr",
    "outputId": "35e182de-f924-42b4-8755-2f875c570d90"
   },
   "outputs": [
    {
     "name": "stderr",
     "output_type": "stream",
     "text": [
      "/opt/anaconda3/lib/python3.8/site-packages/seaborn/distributions.py:2551: FutureWarning: `distplot` is a deprecated function and will be removed in a future version. Please adapt your code to use either `displot` (a figure-level function with similar flexibility) or `histplot` (an axes-level function for histograms).\n",
      "  warnings.warn(msg, FutureWarning)\n"
     ]
    },
    {
     "data": {
      "text/plain": [
       "<AxesSubplot:xlabel='UnitPrice', ylabel='Density'>"
      ]
     },
     "execution_count": 24,
     "metadata": {},
     "output_type": "execute_result"
    },
    {
     "data": {
      "image/png": "[encoded data removed]",
      "text/plain": [
       "<Figure size 432x288 with 1 Axes>"
      ]
     },
     "metadata": {
      "needs_background": "light"
     },
     "output_type": "display_data"
    }
   ],
   "source": [
    "# histogram\n",
    "sns.distplot(df.UnitPrice)"
   ]
  },
  {
   "cell_type": "code",
   "execution_count": 22,
   "metadata": {
    "colab": {
     "base_uri": "https://localhost:8080/",
     "height": 297
    },
    "executionInfo": {
     "elapsed": 5007,
     "status": "ok",
     "timestamp": 1619696769945,
     "user": {
      "displayName": "木村隆介",
      "photoUrl": "",
      "userId": "17085545041801616114"
     },
     "user_tz": -540
    },
    "id": "wMS3y_yd1CGU",
    "outputId": "b45f64d5-cd52-48b9-a9a6-35f0844d27ac"
   },
   "outputs": [
    {
     "data": {
      "text/plain": [
       "<AxesSubplot:xlabel='InvoiceDate', ylabel='Quantity'>"
      ]
     },
     "execution_count": 22,
     "metadata": {},
     "output_type": "execute_result"
    },
    {
     "data": {
      "image/png": "[encoded data removed]",
      "text/plain": [
       "<Figure size 432x288 with 1 Axes>"
      ]
     },
     "metadata": {
      "needs_background": "light"
     },
     "output_type": "display_data"
    }
   ],
   "source": [
    "# random data wrangling\n",
    "data = df.groupby('InvoiceDate', as_index=False).agg({'Quantity': np.sum, 'UnitPrice': np.mean})\n",
    "sns.lineplot(data=data, x=\"InvoiceDate\", y=\"Quantity\")"
   ]
  },
  {
   "cell_type": "markdown",
   "metadata": {
    "id": "j2Qk3wwff3qz"
   },
   "source": [
    "## verify data quality\n",
    "----------\n",
    "\n",
    "### task\n",
    "\n",
    "Examine the quality of the data, addressing questions such as: is the\n",
    "data complete (does it cover all the cases required)? Is it correct or\n",
    "does it contain errors and if there are errors how common are they?\n",
    "Are there missing values in the data? If so how are they represented,\n",
    "where do they occur and how common are they?\n",
    "\n",
    "### output\n",
    "\n",
    "List the results of the data quality verification; if quality problems\n",
    "exist, list possible solutions. Solutions to data quality problems\n",
    "generally depend heavily on both data and business knowledge."
   ]
  },
  {
   "cell_type": "code",
   "execution_count": 25,
   "metadata": {
    "colab": {
     "base_uri": "https://localhost:8080/",
     "height": 419
    },
    "executionInfo": {
     "elapsed": 4999,
     "status": "ok",
     "timestamp": 1619696769946,
     "user": {
      "displayName": "木村隆介",
      "photoUrl": "",
      "userId": "17085545041801616114"
     },
     "user_tz": -540
    },
    "id": "b5YEWsmB5gaA",
    "outputId": "30d81dc7-ff70-4f23-8124-1714901bff26"
   },
   "outputs": [
    {
     "data": {
      "text/html": [
       "<div>\n",
       "<style scoped>\n",
       "    .dataframe tbody tr th:only-of-type {\n",
       "        vertical-align: middle;\n",
       "    }\n",
       "\n",
       "    .dataframe tbody tr th {\n",
       "        vertical-align: top;\n",
       "    }\n",
       "\n",
       "    .dataframe thead th {\n",
       "        text-align: right;\n",
       "    }\n",
       "</style>\n",
       "<table border=\"1\" class=\"dataframe\">\n",
       "  <thead>\n",
       "    <tr style=\"text-align: right;\">\n",
       "      <th></th>\n",
       "      <th>InvoiceNo</th>\n",
       "      <th>StockCode</th>\n",
       "      <th>Description</th>\n",
       "      <th>Quantity</th>\n",
       "      <th>InvoiceDate</th>\n",
       "      <th>UnitPrice</th>\n",
       "      <th>CustomerID</th>\n",
       "      <th>Country</th>\n",
       "    </tr>\n",
       "  </thead>\n",
       "  <tbody>\n",
       "    <tr>\n",
       "      <th>485</th>\n",
       "      <td>536409</td>\n",
       "      <td>22111</td>\n",
       "      <td>SCOTTIE DOG HOT WATER BOTTLE</td>\n",
       "      <td>1</td>\n",
       "      <td>2010-12-01 11:45:00</td>\n",
       "      <td>4.95</td>\n",
       "      <td>17908</td>\n",
       "      <td>United Kingdom</td>\n",
       "    </tr>\n",
       "    <tr>\n",
       "      <th>489</th>\n",
       "      <td>536409</td>\n",
       "      <td>22866</td>\n",
       "      <td>HAND WARMER SCOTTY DOG DESIGN</td>\n",
       "      <td>1</td>\n",
       "      <td>2010-12-01 11:45:00</td>\n",
       "      <td>2.10</td>\n",
       "      <td>17908</td>\n",
       "      <td>United Kingdom</td>\n",
       "    </tr>\n",
       "    <tr>\n",
       "      <th>494</th>\n",
       "      <td>536409</td>\n",
       "      <td>21866</td>\n",
       "      <td>UNION JACK FLAG LUGGAGE TAG</td>\n",
       "      <td>1</td>\n",
       "      <td>2010-12-01 11:45:00</td>\n",
       "      <td>1.25</td>\n",
       "      <td>17908</td>\n",
       "      <td>United Kingdom</td>\n",
       "    </tr>\n",
       "    <tr>\n",
       "      <th>517</th>\n",
       "      <td>536409</td>\n",
       "      <td>21866</td>\n",
       "      <td>UNION JACK FLAG LUGGAGE TAG</td>\n",
       "      <td>1</td>\n",
       "      <td>2010-12-01 11:45:00</td>\n",
       "      <td>1.25</td>\n",
       "      <td>17908</td>\n",
       "      <td>United Kingdom</td>\n",
       "    </tr>\n",
       "    <tr>\n",
       "      <th>521</th>\n",
       "      <td>536409</td>\n",
       "      <td>22900</td>\n",
       "      <td>SET 2 TEA TOWELS I LOVE LONDON</td>\n",
       "      <td>1</td>\n",
       "      <td>2010-12-01 11:45:00</td>\n",
       "      <td>2.95</td>\n",
       "      <td>17908</td>\n",
       "      <td>United Kingdom</td>\n",
       "    </tr>\n",
       "    <tr>\n",
       "      <th>...</th>\n",
       "      <td>...</td>\n",
       "      <td>...</td>\n",
       "      <td>...</td>\n",
       "      <td>...</td>\n",
       "      <td>...</td>\n",
       "      <td>...</td>\n",
       "      <td>...</td>\n",
       "      <td>...</td>\n",
       "    </tr>\n",
       "    <tr>\n",
       "      <th>541675</th>\n",
       "      <td>581538</td>\n",
       "      <td>22068</td>\n",
       "      <td>BLACK PIRATE TREASURE CHEST</td>\n",
       "      <td>1</td>\n",
       "      <td>2011-12-09 11:34:00</td>\n",
       "      <td>0.39</td>\n",
       "      <td>14446</td>\n",
       "      <td>United Kingdom</td>\n",
       "    </tr>\n",
       "    <tr>\n",
       "      <th>541689</th>\n",
       "      <td>581538</td>\n",
       "      <td>23318</td>\n",
       "      <td>BOX OF 6 MINI VINTAGE CRACKERS</td>\n",
       "      <td>1</td>\n",
       "      <td>2011-12-09 11:34:00</td>\n",
       "      <td>2.49</td>\n",
       "      <td>14446</td>\n",
       "      <td>United Kingdom</td>\n",
       "    </tr>\n",
       "    <tr>\n",
       "      <th>541692</th>\n",
       "      <td>581538</td>\n",
       "      <td>22992</td>\n",
       "      <td>REVOLVER WOODEN RULER</td>\n",
       "      <td>1</td>\n",
       "      <td>2011-12-09 11:34:00</td>\n",
       "      <td>1.95</td>\n",
       "      <td>14446</td>\n",
       "      <td>United Kingdom</td>\n",
       "    </tr>\n",
       "    <tr>\n",
       "      <th>541699</th>\n",
       "      <td>581538</td>\n",
       "      <td>22694</td>\n",
       "      <td>WICKER STAR</td>\n",
       "      <td>1</td>\n",
       "      <td>2011-12-09 11:34:00</td>\n",
       "      <td>2.10</td>\n",
       "      <td>14446</td>\n",
       "      <td>United Kingdom</td>\n",
       "    </tr>\n",
       "    <tr>\n",
       "      <th>541701</th>\n",
       "      <td>581538</td>\n",
       "      <td>23343</td>\n",
       "      <td>JUMBO BAG VINTAGE CHRISTMAS</td>\n",
       "      <td>1</td>\n",
       "      <td>2011-12-09 11:34:00</td>\n",
       "      <td>2.08</td>\n",
       "      <td>14446</td>\n",
       "      <td>United Kingdom</td>\n",
       "    </tr>\n",
       "  </tbody>\n",
       "</table>\n",
       "<p>10147 rows × 8 columns</p>\n",
       "</div>"
      ],
      "text/plain": [
       "       InvoiceNo StockCode                       Description  Quantity  \\\n",
       "485       536409     22111      SCOTTIE DOG HOT WATER BOTTLE         1   \n",
       "489       536409     22866     HAND WARMER SCOTTY DOG DESIGN         1   \n",
       "494       536409     21866       UNION JACK FLAG LUGGAGE TAG         1   \n",
       "517       536409     21866       UNION JACK FLAG LUGGAGE TAG         1   \n",
       "521       536409     22900   SET 2 TEA TOWELS I LOVE LONDON          1   \n",
       "...          ...       ...                               ...       ...   \n",
       "541675    581538     22068       BLACK PIRATE TREASURE CHEST         1   \n",
       "541689    581538     23318    BOX OF 6 MINI VINTAGE CRACKERS         1   \n",
       "541692    581538     22992            REVOLVER WOODEN RULER          1   \n",
       "541699    581538     22694                      WICKER STAR          1   \n",
       "541701    581538     23343      JUMBO BAG VINTAGE CHRISTMAS          1   \n",
       "\n",
       "               InvoiceDate  UnitPrice CustomerID         Country  \n",
       "485    2010-12-01 11:45:00       4.95      17908  United Kingdom  \n",
       "489    2010-12-01 11:45:00       2.10      17908  United Kingdom  \n",
       "494    2010-12-01 11:45:00       1.25      17908  United Kingdom  \n",
       "517    2010-12-01 11:45:00       1.25      17908  United Kingdom  \n",
       "521    2010-12-01 11:45:00       2.95      17908  United Kingdom  \n",
       "...                    ...        ...        ...             ...  \n",
       "541675 2011-12-09 11:34:00       0.39      14446  United Kingdom  \n",
       "541689 2011-12-09 11:34:00       2.49      14446  United Kingdom  \n",
       "541692 2011-12-09 11:34:00       1.95      14446  United Kingdom  \n",
       "541699 2011-12-09 11:34:00       2.10      14446  United Kingdom  \n",
       "541701 2011-12-09 11:34:00       2.08      14446  United Kingdom  \n",
       "\n",
       "[10147 rows x 8 columns]"
      ]
     },
     "execution_count": 25,
     "metadata": {},
     "output_type": "execute_result"
    }
   ],
   "source": [
    "# check duplicate row\n",
    "df[df.duplicated(keep=False)]"
   ]
  },
  {
   "cell_type": "code",
   "execution_count": 26,
   "metadata": {
    "colab": {
     "base_uri": "https://localhost:8080/",
     "height": 419
    },
    "executionInfo": {
     "elapsed": 5006,
     "status": "ok",
     "timestamp": 1619696769963,
     "user": {
      "displayName": "木村隆介",
      "photoUrl": "",
      "userId": "17085545041801616114"
     },
     "user_tz": -540
    },
    "id": "i_wGEtBD6-r_",
    "outputId": "117aaeec-ccff-423a-8bce-d70634028830"
   },
   "outputs": [
    {
     "data": {
      "text/html": [
       "<div>\n",
       "<style scoped>\n",
       "    .dataframe tbody tr th:only-of-type {\n",
       "        vertical-align: middle;\n",
       "    }\n",
       "\n",
       "    .dataframe tbody tr th {\n",
       "        vertical-align: top;\n",
       "    }\n",
       "\n",
       "    .dataframe thead th {\n",
       "        text-align: right;\n",
       "    }\n",
       "</style>\n",
       "<table border=\"1\" class=\"dataframe\">\n",
       "  <thead>\n",
       "    <tr style=\"text-align: right;\">\n",
       "      <th></th>\n",
       "      <th>InvoiceNo</th>\n",
       "      <th>StockCode</th>\n",
       "      <th>Description</th>\n",
       "      <th>Quantity</th>\n",
       "      <th>InvoiceDate</th>\n",
       "      <th>UnitPrice</th>\n",
       "      <th>CustomerID</th>\n",
       "      <th>Country</th>\n",
       "    </tr>\n",
       "  </thead>\n",
       "  <tbody>\n",
       "    <tr>\n",
       "      <th>4287</th>\n",
       "      <td>C536757</td>\n",
       "      <td>84347</td>\n",
       "      <td>ROTATING SILVER ANGELS T-LIGHT HLDR</td>\n",
       "      <td>-9360</td>\n",
       "      <td>2010-12-02 14:23:00</td>\n",
       "      <td>0.03</td>\n",
       "      <td>15838</td>\n",
       "      <td>United Kingdom</td>\n",
       "    </tr>\n",
       "    <tr>\n",
       "      <th>4850</th>\n",
       "      <td>536809</td>\n",
       "      <td>84950</td>\n",
       "      <td>ASSORTED COLOUR T-LIGHT HOLDER</td>\n",
       "      <td>1824</td>\n",
       "      <td>2010-12-02 16:48:00</td>\n",
       "      <td>0.55</td>\n",
       "      <td>15299</td>\n",
       "      <td>United Kingdom</td>\n",
       "    </tr>\n",
       "    <tr>\n",
       "      <th>4945</th>\n",
       "      <td>536830</td>\n",
       "      <td>84077</td>\n",
       "      <td>WORLD WAR 2 GLIDERS ASSTD DESIGNS</td>\n",
       "      <td>2880</td>\n",
       "      <td>2010-12-02 17:38:00</td>\n",
       "      <td>0.18</td>\n",
       "      <td>16754</td>\n",
       "      <td>United Kingdom</td>\n",
       "    </tr>\n",
       "    <tr>\n",
       "      <th>4946</th>\n",
       "      <td>536830</td>\n",
       "      <td>21915</td>\n",
       "      <td>RED  HARMONICA IN BOX</td>\n",
       "      <td>1400</td>\n",
       "      <td>2010-12-02 17:38:00</td>\n",
       "      <td>1.06</td>\n",
       "      <td>16754</td>\n",
       "      <td>United Kingdom</td>\n",
       "    </tr>\n",
       "    <tr>\n",
       "      <th>6365</th>\n",
       "      <td>536890</td>\n",
       "      <td>17084R</td>\n",
       "      <td>ASSORTED INCENSE PACK</td>\n",
       "      <td>1440</td>\n",
       "      <td>2010-12-03 11:48:00</td>\n",
       "      <td>0.16</td>\n",
       "      <td>14156</td>\n",
       "      <td>EIRE</td>\n",
       "    </tr>\n",
       "    <tr>\n",
       "      <th>...</th>\n",
       "      <td>...</td>\n",
       "      <td>...</td>\n",
       "      <td>...</td>\n",
       "      <td>...</td>\n",
       "      <td>...</td>\n",
       "      <td>...</td>\n",
       "      <td>...</td>\n",
       "      <td>...</td>\n",
       "    </tr>\n",
       "    <tr>\n",
       "      <th>540061</th>\n",
       "      <td>581457</td>\n",
       "      <td>23543</td>\n",
       "      <td>WALL ART KEEP CALM</td>\n",
       "      <td>698</td>\n",
       "      <td>2011-12-08 18:43:00</td>\n",
       "      <td>4.15</td>\n",
       "      <td>18102</td>\n",
       "      <td>United Kingdom</td>\n",
       "    </tr>\n",
       "    <tr>\n",
       "      <th>540070</th>\n",
       "      <td>581458</td>\n",
       "      <td>22197</td>\n",
       "      <td>POPCORN HOLDER</td>\n",
       "      <td>1500</td>\n",
       "      <td>2011-12-08 18:45:00</td>\n",
       "      <td>0.72</td>\n",
       "      <td>17949</td>\n",
       "      <td>United Kingdom</td>\n",
       "    </tr>\n",
       "    <tr>\n",
       "      <th>540071</th>\n",
       "      <td>581459</td>\n",
       "      <td>22197</td>\n",
       "      <td>POPCORN HOLDER</td>\n",
       "      <td>1200</td>\n",
       "      <td>2011-12-08 18:46:00</td>\n",
       "      <td>0.72</td>\n",
       "      <td>17949</td>\n",
       "      <td>United Kingdom</td>\n",
       "    </tr>\n",
       "    <tr>\n",
       "      <th>540421</th>\n",
       "      <td>581483</td>\n",
       "      <td>23843</td>\n",
       "      <td>PAPER CRAFT , LITTLE BIRDIE</td>\n",
       "      <td>80995</td>\n",
       "      <td>2011-12-09 09:15:00</td>\n",
       "      <td>2.08</td>\n",
       "      <td>16446</td>\n",
       "      <td>United Kingdom</td>\n",
       "    </tr>\n",
       "    <tr>\n",
       "      <th>540422</th>\n",
       "      <td>C581484</td>\n",
       "      <td>23843</td>\n",
       "      <td>PAPER CRAFT , LITTLE BIRDIE</td>\n",
       "      <td>-80995</td>\n",
       "      <td>2011-12-09 09:27:00</td>\n",
       "      <td>2.08</td>\n",
       "      <td>16446</td>\n",
       "      <td>United Kingdom</td>\n",
       "    </tr>\n",
       "  </tbody>\n",
       "</table>\n",
       "<p>346 rows × 8 columns</p>\n",
       "</div>"
      ],
      "text/plain": [
       "       InvoiceNo StockCode                          Description  Quantity  \\\n",
       "4287     C536757     84347  ROTATING SILVER ANGELS T-LIGHT HLDR     -9360   \n",
       "4850      536809     84950       ASSORTED COLOUR T-LIGHT HOLDER      1824   \n",
       "4945      536830     84077    WORLD WAR 2 GLIDERS ASSTD DESIGNS      2880   \n",
       "4946      536830     21915               RED  HARMONICA IN BOX       1400   \n",
       "6365      536890    17084R                ASSORTED INCENSE PACK      1440   \n",
       "...          ...       ...                                  ...       ...   \n",
       "540061    581457     23543                  WALL ART KEEP CALM        698   \n",
       "540070    581458     22197                       POPCORN HOLDER      1500   \n",
       "540071    581459     22197                       POPCORN HOLDER      1200   \n",
       "540421    581483     23843          PAPER CRAFT , LITTLE BIRDIE     80995   \n",
       "540422   C581484     23843          PAPER CRAFT , LITTLE BIRDIE    -80995   \n",
       "\n",
       "               InvoiceDate  UnitPrice CustomerID         Country  \n",
       "4287   2010-12-02 14:23:00       0.03      15838  United Kingdom  \n",
       "4850   2010-12-02 16:48:00       0.55      15299  United Kingdom  \n",
       "4945   2010-12-02 17:38:00       0.18      16754  United Kingdom  \n",
       "4946   2010-12-02 17:38:00       1.06      16754  United Kingdom  \n",
       "6365   2010-12-03 11:48:00       0.16      14156            EIRE  \n",
       "...                    ...        ...        ...             ...  \n",
       "540061 2011-12-08 18:43:00       4.15      18102  United Kingdom  \n",
       "540070 2011-12-08 18:45:00       0.72      17949  United Kingdom  \n",
       "540071 2011-12-08 18:46:00       0.72      17949  United Kingdom  \n",
       "540421 2011-12-09 09:15:00       2.08      16446  United Kingdom  \n",
       "540422 2011-12-09 09:27:00       2.08      16446  United Kingdom  \n",
       "\n",
       "[346 rows x 8 columns]"
      ]
     },
     "execution_count": 26,
     "metadata": {},
     "output_type": "execute_result"
    }
   ],
   "source": [
    "# check outlier\n",
    "from scipy import stats\n",
    "z_thr = 3.0\n",
    "df[(np.abs(stats.zscore(df.select_dtypes(include=int))) > z_thr).any(axis=1)]"
   ]
  },
  {
   "cell_type": "code",
   "execution_count": 27,
   "metadata": {
    "colab": {
     "base_uri": "https://localhost:8080/"
    },
    "executionInfo": {
     "elapsed": 5000,
     "status": "ok",
     "timestamp": 1619696769965,
     "user": {
      "displayName": "木村隆介",
      "photoUrl": "",
      "userId": "17085545041801616114"
     },
     "user_tz": -540
    },
    "id": "ECGLrYhkgDCY",
    "outputId": "31069835-5b9e-489d-fc71-d053c72aa427"
   },
   "outputs": [
    {
     "data": {
      "text/plain": [
       "InvoiceNo           0\n",
       "StockCode           0\n",
       "Description      1454\n",
       "Quantity            0\n",
       "InvoiceDate         0\n",
       "UnitPrice           0\n",
       "CustomerID     135080\n",
       "Country             0\n",
       "dtype: int64"
      ]
     },
     "execution_count": 27,
     "metadata": {},
     "output_type": "execute_result"
    }
   ],
   "source": [
    "# check missing data\n",
    "df.isnull().sum()"
   ]
  },
  {
   "cell_type": "code",
   "execution_count": 28,
   "metadata": {
    "colab": {
     "base_uri": "https://localhost:8080/"
    },
    "executionInfo": {
     "elapsed": 5460,
     "status": "ok",
     "timestamp": 1619696770430,
     "user": {
      "displayName": "木村隆介",
      "photoUrl": "",
      "userId": "17085545041801616114"
     },
     "user_tz": -540
    },
    "id": "PkZq3uoiv_8B",
    "outputId": "fac23bfe-70a9-4468-ee54-3dfec56c8856"
   },
   "outputs": [
    {
     "data": {
      "text/plain": [
       "InvoiceNo      25900\n",
       "StockCode       4070\n",
       "Description     4223\n",
       "Quantity         722\n",
       "InvoiceDate    23260\n",
       "UnitPrice       1630\n",
       "CustomerID      4372\n",
       "Country           38\n",
       "dtype: int64"
      ]
     },
     "execution_count": 28,
     "metadata": {},
     "output_type": "execute_result"
    }
   ],
   "source": [
    "# check number of unique value\n",
    "df.nunique()"
   ]
  },
  {
   "cell_type": "code",
   "execution_count": 31,
   "metadata": {
    "colab": {
     "base_uri": "https://localhost:8080/"
    },
    "executionInfo": {
     "elapsed": 5456,
     "status": "ok",
     "timestamp": 1619696770431,
     "user": {
      "displayName": "木村隆介",
      "photoUrl": "",
      "userId": "17085545041801616114"
     },
     "user_tz": -540
    },
    "id": "c9jr4a64uq6q",
    "outputId": "1b011427-511e-4597-a03b-ceaaed8df7b9"
   },
   "outputs": [
    {
     "name": "stdout",
     "output_type": "stream",
     "text": [
      "------InvoiceNo------\n",
      "['536365' '536366' '536367' ... 'C581499' 'C581568' 'C581569']\n",
      "\n",
      "------StockCode------\n",
      "['10002' '10080' '10120' ... 'gift_0001_40' 'gift_0001_50' 'm']\n",
      "\n",
      "------Description------\n",
      "['WHITE HANGING HEART T-LIGHT HOLDER' 'WHITE METAL LANTERN'\n",
      " 'CREAM CUPID HEARTS COAT HANGER' ... 'lost'\n",
      " 'CREAM HANGING HEART T-LIGHT HOLDER' 'PAPER CRAFT , LITTLE BIRDIE']\n",
      "\n",
      "------Quantity------\n",
      "[-80995 -74215  -9600  -9360  -9058  -5368  -4830  -3667  -3167  -3114\n",
      "  -3100  -3000  -2880  -2834  -2618  -2600  -2472  -2376  -2003  -2000\n",
      "  -1930  -1897  -1681  -1671  -1560  -1515  -1512  -1510  -1479  -1440\n",
      "  -1430  -1400  -1350  -1300  -1296  -1284  -1277  -1206  -1200  -1158\n",
      "  -1131  -1128  -1121  -1100  -1092  -1060  -1050  -1000   -990   -975\n",
      "   -967   -960   -939   -905   -900   -864   -840   -828   -800   -786\n",
      "   -756   -752   -750   -741   -723   -720   -701   -696   -690   -682\n",
      "   -675   -674   -670   -664   -657   -635   -624   -620   -618   -600\n",
      "   -590   -576   -553   -550   -541   -530   -524   -504   -500   -484\n",
      "   -480   -472   -468   -458   -455   -450   -443   -434   -432   -430\n",
      "   -428   -420   -413   -408   -400   -398   -391   -390   -384   -380\n",
      "   -365   -360   -355   -346   -345   -343   -342   -338   -337   -335\n",
      "   -334   -327   -324   -323   -320   -318   -313   -312   -310   -306\n",
      "   -304   -300   -290   -288   -280   -278   -276   -275   -272   -271\n",
      "   -270   -267   -259   -256   -252   -251   -250   -244   -242   -240\n",
      "   -235   -234   -232   -231   -230   -227   -224   -223   -220   -217\n",
      "   -212   -210   -209   -207   -206   -204   -203   -201   -200   -197\n",
      "   -194   -192   -188   -186   -184   -180   -179   -178   -177   -175\n",
      "   -173   -170   -169   -168   -164   -162   -161   -160   -158   -156\n",
      "   -155   -154   -153   -152   -151   -150   -149   -147   -145   -144\n",
      "   -140   -139   -138   -135   -132   -131   -130   -129   -126   -125\n",
      "   -124   -121   -120   -118   -117   -116   -115   -114   -113   -112\n",
      "   -111   -110   -109   -108   -106   -105   -104   -103   -102   -101\n",
      "   -100    -99    -98    -97    -96    -95    -94    -93    -92    -91\n",
      "    -90    -88    -87    -86    -85    -84    -83    -82    -81    -80\n",
      "    -79    -78    -77    -76    -75    -74    -73    -72    -71    -70\n",
      "    -69    -68    -67    -66    -65    -64    -63    -62    -61    -60\n",
      "    -59    -58    -57    -56    -55    -54    -53    -52    -51    -50\n",
      "    -49    -48    -47    -46    -45    -44    -43    -42    -41    -40\n",
      "    -39    -38    -37    -36    -35    -34    -33    -32    -31    -30\n",
      "    -29    -28    -27    -26    -25    -24    -23    -22    -21    -20\n",
      "    -19    -18    -17    -16    -15    -14    -13    -12    -11    -10\n",
      "     -9     -8     -7     -6     -5     -4     -3     -2     -1      1\n",
      "      2      3      4      5      6      7      8      9     10     11\n",
      "     12     13     14     15     16     17     18     19     20     21\n",
      "     22     23     24     25     26     27     28     29     30     31\n",
      "     32     33     34     35     36     37     38     39     40     41\n",
      "     42     43     44     45     46     47     48     49     50     51\n",
      "     52     53     54     55     56     57     58     59     60     61\n",
      "     62     63     64     65     66     67     68     69     70     71\n",
      "     72     73     74     75     76     77     78     79     80     81\n",
      "     82     83     84     85     86     87     88     89     90     91\n",
      "     92     93     94     95     96     97     98     99    100    101\n",
      "    102    104    105    106    107    108    109    110    111    112\n",
      "    113    114    115    116    117    118    120    121    122    123\n",
      "    124    125    126    128    129    130    131    132    133    135\n",
      "    136    137    138    139    140    141    142    143    144    145\n",
      "    146    147    148    149    150    151    152    153    155    156\n",
      "    157    158    160    162    163    164    165    167    168    170\n",
      "    171    172    175    176    177    179    180    181    183    184\n",
      "    186    188    192    193    196    197    198    199    200    204\n",
      "    205    207    208    210    211    212    213    215    216    219\n",
      "    220    222    224    225    227    228    230    232    234    236\n",
      "    240    242    244    245    246    248    249    250    252    253\n",
      "    255    256    257    258    261    264    267    268    270    272\n",
      "    273    276    279    280    281    288    291    300    304    306\n",
      "    310    312    314    320    323    324    326    330    335    336\n",
      "    342    344    348    350    352    360    370    374    375    378\n",
      "    384    388    392    396    400    402    404    407    408    410\n",
      "    416    420    425    428    430    432    448    450    456    460\n",
      "    462    468    478    480    484    490    492    494    496    500\n",
      "    504    512    528    540    552    560    576    588    600    608\n",
      "    612    620    624    628    630    637    640    648    654    660\n",
      "    666    670    672    682    684    688    696    698    700    701\n",
      "    708    720    738    744    750    752    756    760    768    774\n",
      "    800    824    828    832    840    852    860    864    888    900\n",
      "    906    912    960    968    972    992   1000   1008   1010   1020\n",
      "   1056   1120   1130   1152   1200   1284   1287   1296   1300   1350\n",
      "   1356   1394   1400   1404   1412   1428   1440   1488   1500   1515\n",
      "   1540   1600   1728   1788   1820   1824   1878   1900   1930   1944\n",
      "   1992   2000   2040   2100   2160   2400   2560   2592   2700   2880\n",
      "   3000   3100   3114   3186   3906   4000   4300   4800   5568  12540\n",
      "  74215  80995]\n",
      "\n",
      "------InvoiceDate------\n",
      "['2010-12-01T08:26:00.000000000' '2010-12-01T08:28:00.000000000'\n",
      " '2010-12-01T08:34:00.000000000' ... '2011-12-09T12:31:00.000000000'\n",
      " '2011-12-09T12:49:00.000000000' '2011-12-09T12:50:00.000000000']\n",
      "\n",
      "------UnitPrice------\n",
      "[-1.106206e+04  0.000000e+00  1.000000e-03 ...  1.688802e+04  1.783646e+04\n",
      "  3.897000e+04]\n",
      "\n",
      "------CustomerID------\n",
      "[12346.0 12347.0 12348.0 ... 18282.0 18283.0 18287.0]\n",
      "\n",
      "------Country------\n",
      "['Australia' 'Austria' 'Bahrain' 'Belgium' 'Brazil' 'Canada'\n",
      " 'Channel Islands' 'Cyprus' 'Czech Republic' 'Denmark' 'EIRE'\n",
      " 'European Community' 'Finland' 'France' 'Germany' 'Greece' 'Hong Kong'\n",
      " 'Iceland' 'Israel' 'Italy' 'Japan' 'Lebanon' 'Lithuania' 'Malta'\n",
      " 'Netherlands' 'Norway' 'Poland' 'Portugal' 'RSA' 'Saudi Arabia'\n",
      " 'Singapore' 'Spain' 'Sweden' 'Switzerland' 'USA' 'United Arab Emirates'\n",
      " 'United Kingdom' 'Unspecified']\n",
      "\n"
     ]
    }
   ],
   "source": [
    "# check unique value\n",
    "for feature in df.columns:\n",
    "  print('------ ' + feature + ' ------')\n",
    "  try:\n",
    "    print(np.sort(df[feature].unique()))\n",
    "  except:\n",
    "    print(df[feature].unique())\n",
    "  print()"
   ]
  },
  {
   "cell_type": "markdown",
   "metadata": {
    "id": "-u6lu6ep4EgC"
   },
   "source": [
    "## note/questions\n",
    "-------------\n",
    "\n",
    "### collect initial data\n",
    "\n",
    "- どのInvoiceNoがキャンセルされたかは厳密にはわからなさそう。\n",
    "\n",
    "\n",
    "### describe data\n",
    "\n",
    "- InvoiceDateは日付型に変換する。\n",
    "- CustomerIDはobject型に変換する。\n",
    "\n",
    "### explore data\n",
    "\n",
    "- Quantity, UnitPriceには外れ値が多数存在している。\n",
    "- Quantity, UnitPriceにはマイナスの値が存在している。マイナスの値はキャンセルに相当する。\n",
    "\n",
    "### verify data quality\n",
    "\n",
    "- Description, CustomerIDに欠損が存在している。理由が不明なので、とりあえずレコード削除とする。\n"
   ]
  },
  {
   "cell_type": "code",
   "execution_count": null,
   "metadata": {
    "id": "77gTgxgz4PYQ"
   },
   "outputs": [],
   "source": []
  }
 ],
 "metadata": {
  "colab": {
   "authorship_tag": "ABX9TyOdbj/NpXAo0mTrRZTN4P0/",
   "collapsed_sections": [],
   "name": "data-understanding.ipynb",
   "provenance": []
  },
  "kernelspec": {
   "display_name": "Python 3",
   "language": "python",
   "name": "python3"
  },
  "language_info": {
   "codemirror_mode": {
    "name": "ipython",
    "version": 3
   },
   "file_extension": ".py",
   "mimetype": "text/x-python",
   "name": "python",
   "nbconvert_exporter": "python",
   "pygments_lexer": "ipython3",
   "version": "3.8.5"
  }
 },
 "nbformat": 4,
 "nbformat_minor": 1
}
