{
 "cells": [
  {
   "cell_type": "markdown",
   "metadata": {
    "id": "_RbelOPK4TFB"
   },
   "source": [
    "# deployment\n",
    "---------------------\n",
    "\n",
    "Under construction..."
   ]
  },
  {
   "cell_type": "markdown",
   "metadata": {
    "id": "SAEHAkLIsImG"
   },
   "source": [
    "## plan deployment\n",
    "----------\n"
   ]
  },
  {
   "cell_type": "markdown",
   "metadata": {
    "id": "MTt2pAHhr8Od"
   },
   "source": [
    "## plan monitoring & maintenance\n",
    "------------------\n"
   ]
  },
  {
   "cell_type": "markdown",
   "metadata": {
    "id": "Wfrdzmhe0Zfr"
   },
   "source": [
    "## produce final report\n",
    "----------\n"
   ]
  },
  {
   "cell_type": "markdown",
   "metadata": {
    "id": "MUsaxE_c6ijH"
   },
   "source": [
    "# review project\n",
    "-------------\n"
   ]
  },
  {
   "cell_type": "markdown",
   "metadata": {
    "id": "-u6lu6ep4EgC"
   },
   "source": [
    "## note/questions\n",
    "-------------\n",
    "\n",
    "#### plan deployment\n",
    "\n",
    "#### plan monitoring & maintenance\n",
    "\n",
    "#### produce final report\n",
    "\n",
    "#### review project\n"
   ]
  }
 ],
 "metadata": {
  "colab": {
   "authorship_tag": "ABX9TyMD6ansbshX/NOW5yTrWryl",
   "collapsed_sections": [],
   "name": "deployment.ipynb",
   "provenance": []
  },
  "kernelspec": {
   "display_name": "Python 3",
   "language": "python",
   "name": "python3"
  },
  "language_info": {
   "codemirror_mode": {
    "name": "ipython",
    "version": 3
   },
   "file_extension": ".py",
   "mimetype": "text/x-python",
   "name": "python",
   "nbconvert_exporter": "python",
   "pygments_lexer": "ipython3",
   "version": "3.8.5"
  }
 },
 "nbformat": 4,
 "nbformat_minor": 1
}
