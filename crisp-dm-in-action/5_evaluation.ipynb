{
 "cells": [
  {
   "cell_type": "markdown",
   "metadata": {
    "id": "_RbelOPK4TFB"
   },
   "source": [
    "# evaluation\n",
    "---------------------\n"
   ]
  },
  {
   "cell_type": "markdown",
   "metadata": {
    "id": "SAEHAkLIsImG"
   },
   "source": [
    "## evaluate result\n",
    "----------\n",
    "\n",
    "Business Understanding の determine data mining goals では、**ABテストで顧客あたりの売上が10%以上向上すること**を成功基準と置きました。今回はABテストを実施することは出来ませんが、evaluate result にはABテストの結果を記載します。ABテストについて詳しく知りたい方は[こちらの書籍](https://www.kadokawa.co.jp/product/302101000901/)を参照して下さい。"
   ]
  },
  {
   "cell_type": "markdown",
   "metadata": {
    "id": "MTt2pAHhr8Od"
   },
   "source": [
    "## review process\n",
    "------------------\n",
    "\n",
    "evaluate result において、ABテストで顧客あたりの売上が5%しか向上せず（それでもすごい成果です！）更に残り5%の売上向上しなければならない状況だとしましょう。この残り5%の売上向上をするために出来ることを考えてみて下さい。"
   ]
  },
  {
   "cell_type": "markdown",
   "metadata": {
    "id": "Wfrdzmhe0Zfr"
   },
   "source": [
    "## determine next steps\n",
    "----------\n",
    "\n",
    "review processであなたは残り5%の売上向上を実現することを目的としたアイデアを幾つか思いつきました。それらのアイデアのメリットとデメリットを議論し、アイデアに優先順位をつけて、どのアイデアを実行するのか決定しましょう。\n",
    "\n",
    "- 注意点: business understanding の assess situationの表を参考に優先順位付けをすると良いでしょう"
   ]
  },
  {
   "cell_type": "markdown",
   "metadata": {
    "id": "-u6lu6ep4EgC"
   },
   "source": [
    "## note/questions\n",
    "-------------\n",
    "\n",
    "#### evaluate model\n",
    "\n",
    "#### review process\n",
    "\n",
    "#### determine next step\n"
   ]
  }
 ],
 "metadata": {
  "colab": {
   "authorship_tag": "ABX9TyN56UHBHmrfaXFDkddTWCbb",
   "collapsed_sections": [],
   "name": "evaluation.ipynb",
   "provenance": []
  },
  "kernelspec": {
   "display_name": "Python 3",
   "language": "python",
   "name": "python3"
  },
  "language_info": {
   "codemirror_mode": {
    "name": "ipython",
    "version": 3
   },
   "file_extension": ".py",
   "mimetype": "text/x-python",
   "name": "python",
   "nbconvert_exporter": "python",
   "pygments_lexer": "ipython3",
   "version": "3.8.5"
  }
 },
 "nbformat": 4,
 "nbformat_minor": 1
}
