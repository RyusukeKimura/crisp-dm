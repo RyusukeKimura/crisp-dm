{
 "cells": [
  {
   "cell_type": "markdown",
   "metadata": {},
   "source": [
    "# read me first\n",
    "\n",
    "`crisp-dm-action` では、[UCI Machine Learning Repository](https://archive.ics.uci.edu/ml/index.php) の [Online Retail](https://archive.ics.uci.edu/ml/datasets/online+retail#) データセットを対象に分析を進めていきます。  \n",
    "分析対象のデータセットは `./data` に格納されています。"
   ]
  },
  {
   "cell_type": "markdown",
   "metadata": {
    "id": "_RbelOPK4TFB"
   },
   "source": [
    "# business understanding\n",
    "------------\n"
   ]
  },
  {
   "cell_type": "markdown",
   "metadata": {
    "id": "Wfrdzmhe0Zfr"
   },
   "source": [
    "## determine business objectives\n",
    "----------\n",
    "\n",
    "### background\n",
    "\n",
    "このデータセットを提供しているのは、英国に本社を置くオンライン小売業者になります。この会社のメインとなる取引相手は卸売業者で、様々なシーンで利用することの出来るギフトを取り扱っています。\n",
    "\n",
    "- 注意点: 実際の企業におけるデータサイエンスのプロジェクトでは、更に深いビジネス背景の理解が求められます。企業のウェブサイトやIR情報、四季報、Wikipedia、Twitterを調べてみたり、特定のサービス、製品の場合は実際に使ってみると良いでしょう。また、対象となる企業やサービス、製品の競合を調べておくと良いでしょう。\n",
    "\n",
    "### business objectives\n",
    "\n",
    "一般的に、ビジネス目的は以下に示す4つのどれかになります。\n",
    "\n",
    "1. 売上向上\n",
    "2. コスト削減\n",
    "3. 品質向上\n",
    "4. リスク低減\n",
    "\n",
    "- 注意点: **売上予測**といった機械学習の機能を目的とした取り組みはだいたい失敗します。このあたりについて詳しく知りたい方は[こちらの書籍](https://www.shoeisha.co.jp/book/detail/9784798154053)を参考にしてみて下さい。\n",
    "\n",
    "今回のビジネス目的は、このオンライン小売業者の売上向上としてみましょう。\n",
    "\n",
    "### business success criteria\n",
    "\n",
    "例として、このオンライン小売業者は上場しており、株主に対してこの一年で売上10％向上を宣言しています。そのため、若干乱暴な設定ではありますが、このプロジェクトの成功基準を**オンラインストアの売上10％向上**と置きましょう。\n"
   ]
  },
  {
   "cell_type": "markdown",
   "metadata": {
    "id": "AZCQA0YfF1Yq"
   },
   "source": [
    "## assess situation\n",
    "-------------\n",
    "\n",
    "売上向上に向けた施策はたくさん存在します。施策の一例として、営業人員の増加、営業の生産性向上、オンラインでの広告出稿、オフラインでの広告出稿、オンラインストア上での商品レコメンドなど無数にあげられます。実際のビジネスでは、これらの施策の全てを実現することはコストや人員などの制約から現実的ではありません。そのため、これらの施策の中から、最も効率的にビジネス目的を達成するための施策を選定したり、優先順位をつけたりしなくてはいけません。施策の選定、優先順位づけでは一般的に、各施策が成功した時の効果の大きさ、施策の実現に必要なコスト、施策の実現可能性、施策を実施する上で想定されるリスクといった観点を鑑みて施策の選定、優先順位づけが実施されます。\n",
    "\n",
    "今回の施策の優先順位付けをするために以下の表を作成しました。実際のビジネスでは施策の内容や効果、コスト、実現可能性、リスクを更に詳細に実施する場合が一般的ですので注意して下さい。\n",
    "\n",
    "| 施策 | 効果 | コスト | 実現可能性 | リスク |\n",
    "|:---|:---:|:---:|:---:|:---|\n",
    "| 営業人員の増加 | 大 | 大 | 中 | 営業が採用出来ないリスク |\n",
    "| 営業の生産性向上 | 小 | 小 | 小 | 以前、生産性向上プロジェクトを実施したものの失敗しており現場の協力が得られなさそう |\n",
    "| オンラインでの広告出稿 | 中 | 中 | 中 | 予算が取れないリスク |\n",
    "| オフラインでの広告出稿 | 大 | 大 | 中 | 予算が取れないリスク |\n",
    "| オンラインストア上での商品レコメンド | 大 | 小 | 高 | 特に無し |\n",
    "\n",
    "- 注意点: 施策の優先順位付けに関して詳しく知りたい方は[こちらの本](https://www.flierinc.com/summary/18)を参照して下さい\n"
   ]
  },
  {
   "cell_type": "markdown",
   "metadata": {
    "id": "ly5EriVtGwfJ"
   },
   "source": [
    "## determine data mining goals\n",
    "-----------\n",
    "\n",
    "assess situationの表にあるように、今回は効果が大きく、コストも小さく、実現可能性も高く、リスクも特に無い**オンラインストア上での商品レコメンド**の施策を実行していきましょう。\n",
    "\n",
    "さて、ビジネス目的は**売上向上**としていました。売上は顧客数×顧客あたりの売上で計算出来ます。**オンラインストア上での商品レコメンド**が改善する対象は**顧客あたりの売上**になります。\n",
    "\n",
    "- 注意点: 売上や顧客数、顧客あたりの売上といった重要な指標はKPI(Key Performance Indicator)と呼ばれることが多いです。KPIについて詳しく知りたい方は[こちらの本](https://www.flierinc.com/summary/1644)を参照して下さい。\n",
    "- 注意点: プロジェクトによっては**顧客あたりの売上**といったKPIを更に分解することもあります。\n",
    "\n",
    "### data mining goals\n",
    "\n",
    "顧客あたりの売上向上を目的に、商品ページにその商品と高い確率で一緒に買われる製品をレコメンドすること。\n",
    "\n",
    "### data mining success criteria\n",
    "\n",
    "ABテストで顧客あたりの売上が10%以上向上することを成功基準と置きましょう。\n",
    "\n",
    "- 注意点: ABテストに関して詳しく知りたい人は[こちらの本](https://www.kadokawa.co.jp/product/302101000901/)を参照して下さい\n"
   ]
  },
  {
   "cell_type": "markdown",
   "metadata": {
    "id": "VNBGjF_bHUiU"
   },
   "source": [
    "## produce project plan\n",
    "----------------\n",
    "\n",
    "今回は省略しますが、ガントチャートなどを用いてプロジェクト計画を立てることが一般的になります。詳しく知りたい方はPMBOK(Project Management Body of Knowledge)や[こちらの本](https://www.amazon.co.jp/%E3%80%8C%E3%83%97%E3%83%AD%E3%82%B8%E3%82%A7%E3%82%AF%E3%83%88%E3%83%9E%E3%83%8D%E3%82%B8%E3%83%A1%E3%83%B3%E3%83%88%E3%80%8D%E5%AE%9F%E8%B7%B5%E8%AC%9B%E5%BA%A7-%E4%BC%8A%E8%97%A4-%E5%A4%A7%E8%BC%94/dp/4534054696/)を参照して下さい。"
   ]
  }
 ],
 "metadata": {
  "colab": {
   "authorship_tag": "ABX9TyP0tcb9vN+g/E9NCP5Xbry9",
   "collapsed_sections": [],
   "name": "business-understanding.ipynb",
   "provenance": []
  },
  "kernelspec": {
   "display_name": "Python 3",
   "language": "python",
   "name": "python3"
  },
  "language_info": {
   "codemirror_mode": {
    "name": "ipython",
    "version": 3
   },
   "file_extension": ".py",
   "mimetype": "text/x-python",
   "name": "python",
   "nbconvert_exporter": "python",
   "pygments_lexer": "ipython3",
   "version": "3.8.5"
  }
 },
 "nbformat": 4,
 "nbformat_minor": 1
}
