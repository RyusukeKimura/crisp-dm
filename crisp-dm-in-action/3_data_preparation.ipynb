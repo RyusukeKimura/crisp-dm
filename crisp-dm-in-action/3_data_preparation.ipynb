{
 "cells": [
  {
   "cell_type": "code",
   "execution_count": 1,
   "metadata": {
    "id": "pzImNeOjy4jZ"
   },
   "outputs": [],
   "source": [
    "# import libraries\n",
    "import pandas as pd\n",
    "import numpy as np"
   ]
  },
  {
   "cell_type": "code",
   "execution_count": 2,
   "metadata": {},
   "outputs": [],
   "source": [
    "# read csv file\n",
    "df = pd.read_csv('./data/online_retail.csv')"
   ]
  },
  {
   "cell_type": "markdown",
   "metadata": {
    "id": "_RbelOPK4TFB"
   },
   "source": [
    "# data preparation\n",
    "---------------------\n"
   ]
  },
  {
   "cell_type": "markdown",
   "metadata": {
    "id": "Wfrdzmhe0Zfr"
   },
   "source": [
    "## select data\n",
    "----------\n"
   ]
  },
  {
   "cell_type": "markdown",
   "metadata": {
    "id": "XmON6H8NWy4G"
   },
   "source": [
    "#### select data source\n",
    "\n",
    "今回分析対象とするデータセットはUCI Machine Learning Repositoryで提供されている`Online Retail.xlsx`とします。\n",
    "\n",
    "| # | data | included/excluded | reasons | quality | volume/data types |\n",
    "|:---:|:---|:---|:---|:---|:---|\n",
    "| 1 | Online Retail.xlsx | included |  |  |  |\n",
    "\n",
    "- 注意点: 実際のデータサイエンスのプロジェクトでは無数のデータセットが存在します。自分の必要とするデータがどこにあるのか調べるのも一苦労ですが、きちんとデータが管理されている組織ではデータカタログが提供されている場合があります。データカタログに関してはは[こちら](https://www.realize-corp.jp/glossary/data-catalog)を参照して下さい。\n",
    "- 注意点: 実際のデータサイエンスのプロジェクトでは集めてきたデータセットの中から、データの品質が十分であったり、十分なデータ量があるデータセットのみを分析に用います。データの品質が十分で無いために、データサイエンスのプロジェクトが頓挫することもあります。\n",
    "\n",
    "#### select attributes\n",
    "\n",
    "今回の分析では全て利用します。\n",
    "\n",
    "#### select records\n",
    "\n",
    "- キャンセルの注文は行から削除します。（Quantity, UnitPriceがマイナスの行は削除します）\n",
    "- 重複のある行は削除します。（重複の理由はわからないがとりあえず怪しいので削除）\n",
    "- CustomerIDが欠損している行は削除します。（バスケット分析に使えないため）\n"
   ]
  },
  {
   "cell_type": "markdown",
   "metadata": {
    "id": "MTt2pAHhr8Od"
   },
   "source": [
    "## clean data\n",
    "------------------\n"
   ]
  },
  {
   "cell_type": "code",
   "execution_count": 3,
   "metadata": {
    "id": "CXvyZaSTZP0h"
   },
   "outputs": [],
   "source": [
    "# remove unnncesary columns\n",
    "columns = [] # remove no columns if array is empty\n",
    "df = df.drop(columns=columns)"
   ]
  },
  {
   "cell_type": "code",
   "execution_count": 4,
   "metadata": {
    "id": "spUFSLcwZHN3"
   },
   "outputs": [],
   "source": [
    "# clean outlier\n",
    "\n",
    "## Quantity\n",
    "\n",
    "del_flg = df.Quantity < 0\n",
    "df = df.drop(df[del_flg].index)\n",
    "\n",
    "## UnitPrice\n",
    "\n",
    "del_flg = df.UnitPrice < 0\n",
    "df = df.drop(df[del_flg].index)"
   ]
  },
  {
   "cell_type": "code",
   "execution_count": 5,
   "metadata": {
    "id": "WLLTAm40Y1mT"
   },
   "outputs": [],
   "source": [
    "# clean missing data\n",
    "df = df[df.CustomerID.isnull() == False]"
   ]
  },
  {
   "cell_type": "code",
   "execution_count": 6,
   "metadata": {},
   "outputs": [],
   "source": [
    "# clean duplicate records\n",
    "df = df.drop_duplicates()"
   ]
  },
  {
   "cell_type": "markdown",
   "metadata": {
    "id": "SAEHAkLIsImG"
   },
   "source": [
    "## construct data\n",
    "----------\n"
   ]
  },
  {
   "cell_type": "code",
   "execution_count": 7,
   "metadata": {
    "id": "_Ahz4A0_ZYlo"
   },
   "outputs": [],
   "source": [
    "# derive attributes\n",
    "# skip"
   ]
  },
  {
   "cell_type": "code",
   "execution_count": 8,
   "metadata": {},
   "outputs": [],
   "source": [
    "# create item master\n",
    "item_master = df[['StockCode', 'Description']].drop_duplicates().sort_values('StockCode').reset_index(drop=True)"
   ]
  },
  {
   "cell_type": "code",
   "execution_count": 9,
   "metadata": {},
   "outputs": [
    {
     "data": {
      "text/html": [
       "<div>\n",
       "<style scoped>\n",
       "    .dataframe tbody tr th:only-of-type {\n",
       "        vertical-align: middle;\n",
       "    }\n",
       "\n",
       "    .dataframe tbody tr th {\n",
       "        vertical-align: top;\n",
       "    }\n",
       "\n",
       "    .dataframe thead th {\n",
       "        text-align: right;\n",
       "    }\n",
       "</style>\n",
       "<table border=\"1\" class=\"dataframe\">\n",
       "  <thead>\n",
       "    <tr style=\"text-align: right;\">\n",
       "      <th></th>\n",
       "      <th>StockCode</th>\n",
       "      <th>Description</th>\n",
       "    </tr>\n",
       "  </thead>\n",
       "  <tbody>\n",
       "    <tr>\n",
       "      <th>0</th>\n",
       "      <td>10002</td>\n",
       "      <td>INFLATABLE POLITICAL GLOBE</td>\n",
       "    </tr>\n",
       "    <tr>\n",
       "      <th>1</th>\n",
       "      <td>10080</td>\n",
       "      <td>GROOVY CACTUS INFLATABLE</td>\n",
       "    </tr>\n",
       "    <tr>\n",
       "      <th>2</th>\n",
       "      <td>10120</td>\n",
       "      <td>DOGGY RUBBER</td>\n",
       "    </tr>\n",
       "    <tr>\n",
       "      <th>3</th>\n",
       "      <td>10123C</td>\n",
       "      <td>HEARTS WRAPPING TAPE</td>\n",
       "    </tr>\n",
       "    <tr>\n",
       "      <th>4</th>\n",
       "      <td>10124A</td>\n",
       "      <td>SPOTS ON RED BOOKCOVER TAPE</td>\n",
       "    </tr>\n",
       "    <tr>\n",
       "      <th>...</th>\n",
       "      <td>...</td>\n",
       "      <td>...</td>\n",
       "    </tr>\n",
       "    <tr>\n",
       "      <th>3892</th>\n",
       "      <td>C2</td>\n",
       "      <td>CARRIAGE</td>\n",
       "    </tr>\n",
       "    <tr>\n",
       "      <th>3893</th>\n",
       "      <td>DOT</td>\n",
       "      <td>DOTCOM POSTAGE</td>\n",
       "    </tr>\n",
       "    <tr>\n",
       "      <th>3894</th>\n",
       "      <td>M</td>\n",
       "      <td>Manual</td>\n",
       "    </tr>\n",
       "    <tr>\n",
       "      <th>3895</th>\n",
       "      <td>PADS</td>\n",
       "      <td>PADS TO MATCH ALL CUSHIONS</td>\n",
       "    </tr>\n",
       "    <tr>\n",
       "      <th>3896</th>\n",
       "      <td>POST</td>\n",
       "      <td>POSTAGE</td>\n",
       "    </tr>\n",
       "  </tbody>\n",
       "</table>\n",
       "<p>3897 rows × 2 columns</p>\n",
       "</div>"
      ],
      "text/plain": [
       "     StockCode                  Description\n",
       "0        10002  INFLATABLE POLITICAL GLOBE \n",
       "1        10080     GROOVY CACTUS INFLATABLE\n",
       "2        10120                 DOGGY RUBBER\n",
       "3       10123C        HEARTS WRAPPING TAPE \n",
       "4       10124A  SPOTS ON RED BOOKCOVER TAPE\n",
       "...        ...                          ...\n",
       "3892        C2                     CARRIAGE\n",
       "3893       DOT               DOTCOM POSTAGE\n",
       "3894         M                       Manual\n",
       "3895      PADS   PADS TO MATCH ALL CUSHIONS\n",
       "3896      POST                      POSTAGE\n",
       "\n",
       "[3897 rows x 2 columns]"
      ]
     },
     "execution_count": 9,
     "metadata": {},
     "output_type": "execute_result"
    }
   ],
   "source": [
    "# show item master\n",
    "item_master"
   ]
  },
  {
   "cell_type": "code",
   "execution_count": 10,
   "metadata": {
    "id": "AJ8ftwCUZaYJ"
   },
   "outputs": [],
   "source": [
    "# generate records\n",
    "# prep = df.groupby(['InvoiceNo', 'StockCode'])['Quantity'].sum()\n",
    "prep = df.groupby(['InvoiceNo', 'Description'])['Quantity'].sum()\n",
    "prep = prep.unstack().reset_index(drop=True).fillna(0)\n",
    "prep = prep.apply(lambda x: x>0)"
   ]
  },
  {
   "cell_type": "markdown",
   "metadata": {
    "id": "NLwXOV0Tsgzi"
   },
   "source": [
    "## integrate data\n",
    "-------------\n",
    "\n",
    "今回は単一のデータセットしか使っていないためこのタスクは対象外となります。\n",
    "\n",
    "- 注意点: 実際のデータサイエンスプロジェクトでは、たくさんのテーブルを結合することがよくあります。このタスクはSQLで実行することが多いですが、処理が複雑になるとSQLの行数が1000行を超えることもあります。\n"
   ]
  },
  {
   "cell_type": "markdown",
   "metadata": {
    "id": "RWIPJBums0C7"
   },
   "source": [
    "# format data\n",
    "----------------\n",
    "\n",
    "今回はconstruct dataでデータのformatまでしているのでこのタスクは対象外になります。"
   ]
  },
  {
   "cell_type": "code",
   "execution_count": 11,
   "metadata": {
    "id": "77gTgxgz4PYQ"
   },
   "outputs": [],
   "source": [
    "# write prepared data\n",
    "prep.to_csv('./data/prep.csv', encoding='utf-8', index=None)"
   ]
  }
 ],
 "metadata": {
  "colab": {
   "authorship_tag": "ABX9TyO4GUHftfWUo3XWB1we4Tz5",
   "collapsed_sections": [],
   "name": "data-preparation.ipynb",
   "provenance": []
  },
  "kernelspec": {
   "display_name": "Python 3",
   "language": "python",
   "name": "python3"
  },
  "language_info": {
   "codemirror_mode": {
    "name": "ipython",
    "version": 3
   },
   "file_extension": ".py",
   "mimetype": "text/x-python",
   "name": "python",
   "nbconvert_exporter": "python",
   "pygments_lexer": "ipython3",
   "version": "3.8.5"
  }
 },
 "nbformat": 4,
 "nbformat_minor": 1
}
